{
 "cells": [
  {
   "cell_type": "markdown",
   "metadata": {},
   "source": [
    "# Análise de Desempenho Eleitoral do candidato Tarcísio Motta (PSOL-RJ) nas eleições municipais para o cargo de Vereador da cidade do Rio de Janeiro referente aos anos de 2016 e 2020."
   ]
  },
  {
   "cell_type": "markdown",
   "metadata": {},
   "source": [
    "Documento elaborado a partir da demanda apresentada pelo candidato a Deputado Estadual Serginho Monteiro (PSOL), no ano de 2022.\n",
    "\n",
    "Responsável técnico: João Leonardo / E-mail: joao.leonard@outlook.com / Linkedin: https://www.linkedin.com/in/joaopleonardo/ "
   ]
  },
  {
   "cell_type": "markdown",
   "metadata": {},
   "source": [
    "# Importando bibliotecas, bancos de dados, interface gráfica e organizando os dados"
   ]
  },
  {
   "cell_type": "markdown",
   "metadata": {},
   "source": [
    "Importando as bibliotecas, a interface gráfica e os bancos de dados"
   ]
  },
  {
   "cell_type": "code",
   "execution_count": 1,
   "metadata": {},
   "outputs": [],
   "source": [
    "# Importando as bibliotecas\n",
    "\n",
    "import pandas as pd\n",
    "import matplotlib.pyplot as plt"
   ]
  },
  {
   "cell_type": "code",
   "execution_count": 2,
   "metadata": {},
   "outputs": [
    {
     "name": "stdout",
     "output_type": "stream",
     "text": [
      "Requirement already satisfied: plotly in c:\\users\\leona\\anaconda3\\lib\\site-packages (5.9.0)Note: you may need to restart the kernel to use updated packages.\n",
      "Requirement already satisfied: tenacity>=6.2.0 in c:\\users\\leona\\anaconda3\\lib\\site-packages (from plotly) (8.0.1)\n",
      "\n"
     ]
    }
   ],
   "source": [
    "# Definindo interface gráfica\n",
    "\n",
    "%pip install -U plotly\n",
    "pd.options.plotting.backend = 'plotly'"
   ]
  },
  {
   "cell_type": "code",
   "execution_count": 3,
   "metadata": {},
   "outputs": [],
   "source": [
    "# Bancos de dados utilizados\n",
    "\n",
    "df_votacao_2016 = pd.read_csv(r\"C:\\Users\\João Leonardo\\Documents\\votacoes\\votacao_secao_2016_RJ.csv\", sep = ';', encoding = 'iso-8859-1')\n",
    "df_votacao_2020 = pd.read_csv(r\"C:\\Users\\João Leonardo\\Documents\\votacoes\\votacao_secao_2020_RJ.csv\", sep = ';', encoding = 'iso-8859-1')\n",
    "df_enderecos_zonas = pd.read_csv(r\"C:\\Users\\João Leonardo\\Documents\\votacoes\\df_enderecos.csv\", sep = ',')"
   ]
  },
  {
   "cell_type": "code",
   "execution_count": 4,
   "metadata": {},
   "outputs": [
    {
     "name": "stdout",
     "output_type": "stream",
     "text": [
      "<class 'pandas.core.frame.DataFrame'>\n",
      "RangeIndex: 3528477 entries, 0 to 3528476\n",
      "Data columns (total 23 columns):\n",
      " #   Column            Dtype \n",
      "---  ------            ----- \n",
      " 0   DT_GERACAO        object\n",
      " 1   HH_GERACAO        object\n",
      " 2   ANO_ELEICAO       int64 \n",
      " 3   CD_TIPO_ELEICAO   int64 \n",
      " 4   NM_TIPO_ELEICAO   object\n",
      " 5   NR_TURNO          int64 \n",
      " 6   CD_ELEICAO        int64 \n",
      " 7   DS_ELEICAO        object\n",
      " 8   DT_ELEICAO        object\n",
      " 9   TP_ABRANGENCIA    object\n",
      " 10  SG_UF             object\n",
      " 11  SG_UE             int64 \n",
      " 12  NM_UE             object\n",
      " 13  CD_MUNICIPIO      int64 \n",
      " 14  NM_MUNICIPIO      object\n",
      " 15  NR_ZONA           int64 \n",
      " 16  NR_SECAO          int64 \n",
      " 17  CD_CARGO          int64 \n",
      " 18  DS_CARGO          object\n",
      " 19  NR_VOTAVEL        int64 \n",
      " 20  NM_VOTAVEL        object\n",
      " 21  QT_VOTOS          int64 \n",
      " 22  NR_LOCAL_VOTACAO  int64 \n",
      "dtypes: int64(12), object(11)\n",
      "memory usage: 619.2+ MB\n"
     ]
    }
   ],
   "source": [
    "# Visualizando as colunas dos bancos de dados de votações\n",
    "\n",
    "df_votacao_2016.info()"
   ]
  },
  {
   "cell_type": "code",
   "execution_count": 5,
   "metadata": {},
   "outputs": [
    {
     "name": "stdout",
     "output_type": "stream",
     "text": [
      "<class 'pandas.core.frame.DataFrame'>\n",
      "RangeIndex: 49 entries, 0 to 48\n",
      "Data columns (total 8 columns):\n",
      " #   Column     Non-Null Count  Dtype \n",
      "---  ------     --------------  ----- \n",
      " 0   ZE         49 non-null     int64 \n",
      " 1   ENDEREÇO   49 non-null     object\n",
      " 2   BAIRRO     49 non-null     object\n",
      " 3   CIDADE     49 non-null     object\n",
      " 4   TELEFONES  49 non-null     object\n",
      " 5   E-MAIL     49 non-null     object\n",
      " 6   JUIZ       49 non-null     object\n",
      " 7   MAPA       49 non-null     object\n",
      "dtypes: int64(1), object(7)\n",
      "memory usage: 3.2+ KB\n"
     ]
    }
   ],
   "source": [
    "# Visualizando as colunas do bancos de dados com endereço das Zonas Eleitorais\n",
    "\n",
    "df_enderecos_zonas.info()"
   ]
  },
  {
   "cell_type": "markdown",
   "metadata": {},
   "source": [
    "Organizando os banco de dados"
   ]
  },
  {
   "cell_type": "code",
   "execution_count": 6,
   "metadata": {},
   "outputs": [],
   "source": [
    "# Excluindo colunas desnecessárias e renomeando coluna\n",
    "\n",
    "votacao_2016 = df_votacao_2016.drop(['DT_GERACAO', 'HH_GERACAO', 'NM_TIPO_ELEICAO', 'TP_ABRANGENCIA', 'NR_SECAO', 'SG_UE', 'NR_LOCAL_VOTACAO', 'DS_ELEICAO', 'NM_MUNICIPIO'], axis = 1)\n",
    "votacao_2020 = df_votacao_2020.drop(['DT_GERACAO', 'HH_GERACAO', 'NM_TIPO_ELEICAO', 'TP_ABRANGENCIA', 'NR_SECAO', 'SG_UE', 'NR_LOCAL_VOTACAO', 'DS_ELEICAO', 'NM_MUNICIPIO'], axis = 1)\n",
    "enderecos_zonas = df_enderecos_zonas.drop(['TELEFONES', 'E-MAIL', 'JUIZ', 'MAPA', 'CIDADE'], axis = 1) \\\n",
    "                                    .rename(columns={'ZE' : 'NR_ZONA'})\n"
   ]
  },
  {
   "cell_type": "code",
   "execution_count": 7,
   "metadata": {},
   "outputs": [
    {
     "data": {
      "text/html": [
       "<div>\n",
       "<style scoped>\n",
       "    .dataframe tbody tr th:only-of-type {\n",
       "        vertical-align: middle;\n",
       "    }\n",
       "\n",
       "    .dataframe tbody tr th {\n",
       "        vertical-align: top;\n",
       "    }\n",
       "\n",
       "    .dataframe thead th {\n",
       "        text-align: right;\n",
       "    }\n",
       "</style>\n",
       "<table border=\"1\" class=\"dataframe\">\n",
       "  <thead>\n",
       "    <tr style=\"text-align: right;\">\n",
       "      <th></th>\n",
       "      <th>ANO_ELEICAO</th>\n",
       "      <th>CD_TIPO_ELEICAO</th>\n",
       "      <th>NR_TURNO</th>\n",
       "      <th>CD_ELEICAO</th>\n",
       "      <th>DT_ELEICAO</th>\n",
       "      <th>SG_UF</th>\n",
       "      <th>NM_UE</th>\n",
       "      <th>CD_MUNICIPIO</th>\n",
       "      <th>NR_ZONA</th>\n",
       "      <th>CD_CARGO</th>\n",
       "      <th>DS_CARGO</th>\n",
       "      <th>NR_VOTAVEL</th>\n",
       "      <th>NM_VOTAVEL</th>\n",
       "      <th>QT_VOTOS</th>\n",
       "      <th>ENDEREÇO</th>\n",
       "      <th>BAIRRO</th>\n",
       "    </tr>\n",
       "  </thead>\n",
       "  <tbody>\n",
       "    <tr>\n",
       "      <th>151129</th>\n",
       "      <td>2016</td>\n",
       "      <td>2</td>\n",
       "      <td>1</td>\n",
       "      <td>220</td>\n",
       "      <td>02/10/2016</td>\n",
       "      <td>RJ</td>\n",
       "      <td>RIO DE JANEIRO</td>\n",
       "      <td>60011</td>\n",
       "      <td>17</td>\n",
       "      <td>13</td>\n",
       "      <td>Vereador</td>\n",
       "      <td>90999</td>\n",
       "      <td>PEDRO AUGUSTO LISBOA BAPTISTA JUNIOR</td>\n",
       "      <td>1</td>\n",
       "      <td>RUA JARDIM BOTÂNICO 1060</td>\n",
       "      <td>JARDIM BOTÂNICO</td>\n",
       "    </tr>\n",
       "    <tr>\n",
       "      <th>14283</th>\n",
       "      <td>2016</td>\n",
       "      <td>2</td>\n",
       "      <td>1</td>\n",
       "      <td>220</td>\n",
       "      <td>02/10/2016</td>\n",
       "      <td>RJ</td>\n",
       "      <td>RIO DE JANEIRO</td>\n",
       "      <td>60011</td>\n",
       "      <td>4</td>\n",
       "      <td>13</td>\n",
       "      <td>Vereador</td>\n",
       "      <td>50777</td>\n",
       "      <td>MARIELLE FRANCISCO DA SILVA</td>\n",
       "      <td>15</td>\n",
       "      <td>RUA JARDIM BOTÂNICO, 1060</td>\n",
       "      <td>JARDIM BOTÂNICO</td>\n",
       "    </tr>\n",
       "    <tr>\n",
       "      <th>227103</th>\n",
       "      <td>2016</td>\n",
       "      <td>2</td>\n",
       "      <td>1</td>\n",
       "      <td>220</td>\n",
       "      <td>02/10/2016</td>\n",
       "      <td>RJ</td>\n",
       "      <td>RIO DE JANEIRO</td>\n",
       "      <td>60011</td>\n",
       "      <td>25</td>\n",
       "      <td>13</td>\n",
       "      <td>Vereador</td>\n",
       "      <td>10123</td>\n",
       "      <td>JOÃO MENDES DE JESUS</td>\n",
       "      <td>6</td>\n",
       "      <td>PRAÇA DA SUPERINTENDÊNCIA 420</td>\n",
       "      <td>SANTA CRUZ</td>\n",
       "    </tr>\n",
       "    <tr>\n",
       "      <th>549083</th>\n",
       "      <td>2016</td>\n",
       "      <td>2</td>\n",
       "      <td>1</td>\n",
       "      <td>220</td>\n",
       "      <td>02/10/2016</td>\n",
       "      <td>RJ</td>\n",
       "      <td>RIO DE JANEIRO</td>\n",
       "      <td>60011</td>\n",
       "      <td>188</td>\n",
       "      <td>13</td>\n",
       "      <td>Vereador</td>\n",
       "      <td>33192</td>\n",
       "      <td>MARCOS AURELIO DE OLIVEIRA</td>\n",
       "      <td>1</td>\n",
       "      <td>AV. VICENTE DE CARVALHO, 909, LJ. 115/116, 2 P...</td>\n",
       "      <td>VILA DA PENHA</td>\n",
       "    </tr>\n",
       "    <tr>\n",
       "      <th>697444</th>\n",
       "      <td>2016</td>\n",
       "      <td>2</td>\n",
       "      <td>1</td>\n",
       "      <td>220</td>\n",
       "      <td>02/10/2016</td>\n",
       "      <td>RJ</td>\n",
       "      <td>RIO DE JANEIRO</td>\n",
       "      <td>60011</td>\n",
       "      <td>229</td>\n",
       "      <td>13</td>\n",
       "      <td>Vereador</td>\n",
       "      <td>10888</td>\n",
       "      <td>THEO BECKER DE OLIVEIRA</td>\n",
       "      <td>1</td>\n",
       "      <td>AV. PROFESSOR MANOEL DE ABREU, 286</td>\n",
       "      <td>MARACANÃ</td>\n",
       "    </tr>\n",
       "    <tr>\n",
       "      <th>763648</th>\n",
       "      <td>2016</td>\n",
       "      <td>2</td>\n",
       "      <td>1</td>\n",
       "      <td>220</td>\n",
       "      <td>02/10/2016</td>\n",
       "      <td>RJ</td>\n",
       "      <td>RIO DE JANEIRO</td>\n",
       "      <td>60011</td>\n",
       "      <td>241</td>\n",
       "      <td>13</td>\n",
       "      <td>Vereador</td>\n",
       "      <td>10000</td>\n",
       "      <td>FERNANDO PAULO FIGUEIREDO BUARQUE DE GUSMÃO</td>\n",
       "      <td>1</td>\n",
       "      <td>RUA MARTINHO DE CAMPOS, S/N (POSTO AGRÍCOLA)</td>\n",
       "      <td>SANTA CRUZ</td>\n",
       "    </tr>\n",
       "    <tr>\n",
       "      <th>329771</th>\n",
       "      <td>2016</td>\n",
       "      <td>2</td>\n",
       "      <td>1</td>\n",
       "      <td>220</td>\n",
       "      <td>02/10/2016</td>\n",
       "      <td>RJ</td>\n",
       "      <td>RIO DE JANEIRO</td>\n",
       "      <td>60011</td>\n",
       "      <td>125</td>\n",
       "      <td>11</td>\n",
       "      <td>Prefeito</td>\n",
       "      <td>65</td>\n",
       "      <td>JANDIRA FEGHALI</td>\n",
       "      <td>11</td>\n",
       "      <td>RUA MARTINHO DE CAMPOS, S/N (POSTO AGRICOLA)</td>\n",
       "      <td>SANTA CRUZ</td>\n",
       "    </tr>\n",
       "    <tr>\n",
       "      <th>561663</th>\n",
       "      <td>2016</td>\n",
       "      <td>2</td>\n",
       "      <td>1</td>\n",
       "      <td>220</td>\n",
       "      <td>02/10/2016</td>\n",
       "      <td>RJ</td>\n",
       "      <td>RIO DE JANEIRO</td>\n",
       "      <td>60011</td>\n",
       "      <td>191</td>\n",
       "      <td>13</td>\n",
       "      <td>Vereador</td>\n",
       "      <td>20120</td>\n",
       "      <td>CARLOS NANTES BOLSONARO</td>\n",
       "      <td>7</td>\n",
       "      <td>ESTRADA DA CACUIA, 1574</td>\n",
       "      <td>ILHA DO GOVERNADOR</td>\n",
       "    </tr>\n",
       "    <tr>\n",
       "      <th>474870</th>\n",
       "      <td>2016</td>\n",
       "      <td>2</td>\n",
       "      <td>1</td>\n",
       "      <td>220</td>\n",
       "      <td>02/10/2016</td>\n",
       "      <td>RJ</td>\n",
       "      <td>RIO DE JANEIRO</td>\n",
       "      <td>60011</td>\n",
       "      <td>180</td>\n",
       "      <td>13</td>\n",
       "      <td>Vereador</td>\n",
       "      <td>44999</td>\n",
       "      <td>GLEIDSON ELIAS MONTEIRO</td>\n",
       "      <td>1</td>\n",
       "      <td>RUA GODOFREDO VIANA, 400</td>\n",
       "      <td>TAQUARA</td>\n",
       "    </tr>\n",
       "    <tr>\n",
       "      <th>546676</th>\n",
       "      <td>2016</td>\n",
       "      <td>2</td>\n",
       "      <td>1</td>\n",
       "      <td>220</td>\n",
       "      <td>02/10/2016</td>\n",
       "      <td>RJ</td>\n",
       "      <td>RIO DE JANEIRO</td>\n",
       "      <td>60011</td>\n",
       "      <td>188</td>\n",
       "      <td>13</td>\n",
       "      <td>Vereador</td>\n",
       "      <td>35126</td>\n",
       "      <td>LUCIANO ANDRE HENRIQUE DIAS</td>\n",
       "      <td>1</td>\n",
       "      <td>AV. VICENTE DE CARVALHO, 909, LJ. 115/116, 2 P...</td>\n",
       "      <td>VILA DA PENHA</td>\n",
       "    </tr>\n",
       "  </tbody>\n",
       "</table>\n",
       "</div>"
      ],
      "text/plain": [
       "        ANO_ELEICAO  CD_TIPO_ELEICAO  NR_TURNO  CD_ELEICAO  DT_ELEICAO SG_UF  \\\n",
       "151129         2016                2         1         220  02/10/2016    RJ   \n",
       "14283          2016                2         1         220  02/10/2016    RJ   \n",
       "227103         2016                2         1         220  02/10/2016    RJ   \n",
       "549083         2016                2         1         220  02/10/2016    RJ   \n",
       "697444         2016                2         1         220  02/10/2016    RJ   \n",
       "763648         2016                2         1         220  02/10/2016    RJ   \n",
       "329771         2016                2         1         220  02/10/2016    RJ   \n",
       "561663         2016                2         1         220  02/10/2016    RJ   \n",
       "474870         2016                2         1         220  02/10/2016    RJ   \n",
       "546676         2016                2         1         220  02/10/2016    RJ   \n",
       "\n",
       "                 NM_UE  CD_MUNICIPIO  NR_ZONA  CD_CARGO  DS_CARGO  NR_VOTAVEL  \\\n",
       "151129  RIO DE JANEIRO         60011       17        13  Vereador       90999   \n",
       "14283   RIO DE JANEIRO         60011        4        13  Vereador       50777   \n",
       "227103  RIO DE JANEIRO         60011       25        13  Vereador       10123   \n",
       "549083  RIO DE JANEIRO         60011      188        13  Vereador       33192   \n",
       "697444  RIO DE JANEIRO         60011      229        13  Vereador       10888   \n",
       "763648  RIO DE JANEIRO         60011      241        13  Vereador       10000   \n",
       "329771  RIO DE JANEIRO         60011      125        11  Prefeito          65   \n",
       "561663  RIO DE JANEIRO         60011      191        13  Vereador       20120   \n",
       "474870  RIO DE JANEIRO         60011      180        13  Vereador       44999   \n",
       "546676  RIO DE JANEIRO         60011      188        13  Vereador       35126   \n",
       "\n",
       "                                         NM_VOTAVEL  QT_VOTOS  \\\n",
       "151129         PEDRO AUGUSTO LISBOA BAPTISTA JUNIOR         1   \n",
       "14283                   MARIELLE FRANCISCO DA SILVA        15   \n",
       "227103                         JOÃO MENDES DE JESUS         6   \n",
       "549083                   MARCOS AURELIO DE OLIVEIRA         1   \n",
       "697444                      THEO BECKER DE OLIVEIRA         1   \n",
       "763648  FERNANDO PAULO FIGUEIREDO BUARQUE DE GUSMÃO         1   \n",
       "329771                              JANDIRA FEGHALI        11   \n",
       "561663                      CARLOS NANTES BOLSONARO         7   \n",
       "474870                      GLEIDSON ELIAS MONTEIRO         1   \n",
       "546676                  LUCIANO ANDRE HENRIQUE DIAS         1   \n",
       "\n",
       "                                                 ENDEREÇO              BAIRRO  \n",
       "151129                           RUA JARDIM BOTÂNICO 1060     JARDIM BOTÂNICO  \n",
       "14283                           RUA JARDIM BOTÂNICO, 1060     JARDIM BOTÂNICO  \n",
       "227103                      PRAÇA DA SUPERINTENDÊNCIA 420          SANTA CRUZ  \n",
       "549083  AV. VICENTE DE CARVALHO, 909, LJ. 115/116, 2 P...       VILA DA PENHA  \n",
       "697444                 AV. PROFESSOR MANOEL DE ABREU, 286            MARACANÃ  \n",
       "763648       RUA MARTINHO DE CAMPOS, S/N (POSTO AGRÍCOLA)          SANTA CRUZ  \n",
       "329771       RUA MARTINHO DE CAMPOS, S/N (POSTO AGRICOLA)          SANTA CRUZ  \n",
       "561663                            ESTRADA DA CACUIA, 1574  ILHA DO GOVERNADOR  \n",
       "474870                           RUA GODOFREDO VIANA, 400             TAQUARA  \n",
       "546676  AV. VICENTE DE CARVALHO, 909, LJ. 115/116, 2 P...       VILA DA PENHA  "
      ]
     },
     "execution_count": 7,
     "metadata": {},
     "output_type": "execute_result"
    }
   ],
   "source": [
    "# Unidos os bancos de dados\n",
    "\n",
    "votos_2016_bairro = votacao_2016.merge(enderecos_zonas, how = 'right')\n",
    "votos_2020_bairro = votacao_2020.merge(enderecos_zonas, how = 'right')\n",
    "\n",
    "votos_2016_bairro.sample(10)"
   ]
  },
  {
   "cell_type": "code",
   "execution_count": 8,
   "metadata": {},
   "outputs": [],
   "source": [
    "# Selecionando apenas os vereadores\n",
    "\n",
    "votos_vereadores_zona_2016 = votos_2016_bairro.loc[votos_2016_bairro['CD_CARGO'] == 13]\n",
    "votos_vereadores_zona_2020 = votos_2020_bairro.loc[votos_2020_bairro['CD_CARGO'] == 13]\n"
   ]
  },
  {
   "cell_type": "code",
   "execution_count": 9,
   "metadata": {},
   "outputs": [],
   "source": [
    "# Otimização do banco de dados eleitorais de 2016 e 2020\n",
    "\n",
    "df_final_2016 = votos_vereadores_zona_2016.drop(['ANO_ELEICAO', 'CD_TIPO_ELEICAO', 'NR_TURNO', 'CD_ELEICAO', 'DT_ELEICAO', 'SG_UF', 'NM_UE', 'CD_MUNICIPIO', 'CD_CARGO', 'DS_CARGO'], axis = 1)\n",
    "df_final_2020 = votos_vereadores_zona_2020.drop(['ANO_ELEICAO', 'CD_TIPO_ELEICAO', 'NR_TURNO', 'CD_ELEICAO', 'DT_ELEICAO', 'SG_UF', 'NM_UE', 'CD_MUNICIPIO', 'CD_CARGO', 'DS_CARGO'], axis = 1)"
   ]
  },
  {
   "cell_type": "code",
   "execution_count": 10,
   "metadata": {},
   "outputs": [
    {
     "data": {
      "text/html": [
       "<div>\n",
       "<style scoped>\n",
       "    .dataframe tbody tr th:only-of-type {\n",
       "        vertical-align: middle;\n",
       "    }\n",
       "\n",
       "    .dataframe tbody tr th {\n",
       "        vertical-align: top;\n",
       "    }\n",
       "\n",
       "    .dataframe thead th {\n",
       "        text-align: right;\n",
       "    }\n",
       "</style>\n",
       "<table border=\"1\" class=\"dataframe\">\n",
       "  <thead>\n",
       "    <tr style=\"text-align: right;\">\n",
       "      <th></th>\n",
       "      <th>NR_ZONA</th>\n",
       "      <th>NR_VOTAVEL</th>\n",
       "      <th>NM_VOTAVEL</th>\n",
       "      <th>QT_VOTOS</th>\n",
       "      <th>ENDEREÇO</th>\n",
       "      <th>BAIRRO</th>\n",
       "    </tr>\n",
       "  </thead>\n",
       "  <tbody>\n",
       "    <tr>\n",
       "      <th>11</th>\n",
       "      <td>4</td>\n",
       "      <td>20777</td>\n",
       "      <td>ADONIS LOPES DE OLIVEIRA</td>\n",
       "      <td>1</td>\n",
       "      <td>RUA JARDIM BOTÂNICO, 1060</td>\n",
       "      <td>JARDIM BOTÂNICO</td>\n",
       "    </tr>\n",
       "    <tr>\n",
       "      <th>12</th>\n",
       "      <td>4</td>\n",
       "      <td>15626</td>\n",
       "      <td>AGUINALDO TIMOTHEO PEREIRA</td>\n",
       "      <td>1</td>\n",
       "      <td>RUA JARDIM BOTÂNICO, 1060</td>\n",
       "      <td>JARDIM BOTÂNICO</td>\n",
       "    </tr>\n",
       "    <tr>\n",
       "      <th>13</th>\n",
       "      <td>4</td>\n",
       "      <td>45000</td>\n",
       "      <td>ALEXANDRE JOSÉ BERARDINELLI ARRAES</td>\n",
       "      <td>6</td>\n",
       "      <td>RUA JARDIM BOTÂNICO, 1060</td>\n",
       "      <td>JARDIM BOTÂNICO</td>\n",
       "    </tr>\n",
       "    <tr>\n",
       "      <th>14</th>\n",
       "      <td>4</td>\n",
       "      <td>30007</td>\n",
       "      <td>ALEXANDRE TEIXEIRA DE FREITAS RODRIGUES</td>\n",
       "      <td>2</td>\n",
       "      <td>RUA JARDIM BOTÂNICO, 1060</td>\n",
       "      <td>JARDIM BOTÂNICO</td>\n",
       "    </tr>\n",
       "    <tr>\n",
       "      <th>15</th>\n",
       "      <td>4</td>\n",
       "      <td>10543</td>\n",
       "      <td>ALFREDO BARBOSA DE LIMA</td>\n",
       "      <td>1</td>\n",
       "      <td>RUA JARDIM BOTÂNICO, 1060</td>\n",
       "      <td>JARDIM BOTÂNICO</td>\n",
       "    </tr>\n",
       "    <tr>\n",
       "      <th>...</th>\n",
       "      <td>...</td>\n",
       "      <td>...</td>\n",
       "      <td>...</td>\n",
       "      <td>...</td>\n",
       "      <td>...</td>\n",
       "      <td>...</td>\n",
       "    </tr>\n",
       "    <tr>\n",
       "      <th>845765</th>\n",
       "      <td>246</td>\n",
       "      <td>95</td>\n",
       "      <td>VOTO BRANCO</td>\n",
       "      <td>40</td>\n",
       "      <td>RUA MARTINHO DE CAMPOS, S/N  (POSTO AGRÍCOLA)</td>\n",
       "      <td>SANTA CRUZ</td>\n",
       "    </tr>\n",
       "    <tr>\n",
       "      <th>845766</th>\n",
       "      <td>246</td>\n",
       "      <td>96</td>\n",
       "      <td>VOTO NULO</td>\n",
       "      <td>32</td>\n",
       "      <td>RUA MARTINHO DE CAMPOS, S/N  (POSTO AGRÍCOLA)</td>\n",
       "      <td>SANTA CRUZ</td>\n",
       "    </tr>\n",
       "    <tr>\n",
       "      <th>845767</th>\n",
       "      <td>246</td>\n",
       "      <td>15633</td>\n",
       "      <td>WASHINGTON VICENTE NASCIMENTO</td>\n",
       "      <td>2</td>\n",
       "      <td>RUA MARTINHO DE CAMPOS, S/N  (POSTO AGRÍCOLA)</td>\n",
       "      <td>SANTA CRUZ</td>\n",
       "    </tr>\n",
       "    <tr>\n",
       "      <th>845768</th>\n",
       "      <td>246</td>\n",
       "      <td>15040</td>\n",
       "      <td>WILLIAN CARVALHO DOS SANTOS</td>\n",
       "      <td>2</td>\n",
       "      <td>RUA MARTINHO DE CAMPOS, S/N  (POSTO AGRÍCOLA)</td>\n",
       "      <td>SANTA CRUZ</td>\n",
       "    </tr>\n",
       "    <tr>\n",
       "      <th>845769</th>\n",
       "      <td>246</td>\n",
       "      <td>44159</td>\n",
       "      <td>ÁLVARO RODRIGO GARCES DA SILVA</td>\n",
       "      <td>5</td>\n",
       "      <td>RUA MARTINHO DE CAMPOS, S/N  (POSTO AGRÍCOLA)</td>\n",
       "      <td>SANTA CRUZ</td>\n",
       "    </tr>\n",
       "  </tbody>\n",
       "</table>\n",
       "<p>739742 rows × 6 columns</p>\n",
       "</div>"
      ],
      "text/plain": [
       "        NR_ZONA  NR_VOTAVEL                               NM_VOTAVEL  \\\n",
       "11            4       20777                 ADONIS LOPES DE OLIVEIRA   \n",
       "12            4       15626               AGUINALDO TIMOTHEO PEREIRA   \n",
       "13            4       45000       ALEXANDRE JOSÉ BERARDINELLI ARRAES   \n",
       "14            4       30007  ALEXANDRE TEIXEIRA DE FREITAS RODRIGUES   \n",
       "15            4       10543                  ALFREDO BARBOSA DE LIMA   \n",
       "...         ...         ...                                      ...   \n",
       "845765      246          95                              VOTO BRANCO   \n",
       "845766      246          96                                VOTO NULO   \n",
       "845767      246       15633            WASHINGTON VICENTE NASCIMENTO   \n",
       "845768      246       15040              WILLIAN CARVALHO DOS SANTOS   \n",
       "845769      246       44159           ÁLVARO RODRIGO GARCES DA SILVA   \n",
       "\n",
       "        QT_VOTOS                                       ENDEREÇO  \\\n",
       "11             1                      RUA JARDIM BOTÂNICO, 1060   \n",
       "12             1                      RUA JARDIM BOTÂNICO, 1060   \n",
       "13             6                      RUA JARDIM BOTÂNICO, 1060   \n",
       "14             2                      RUA JARDIM BOTÂNICO, 1060   \n",
       "15             1                      RUA JARDIM BOTÂNICO, 1060   \n",
       "...          ...                                            ...   \n",
       "845765        40  RUA MARTINHO DE CAMPOS, S/N  (POSTO AGRÍCOLA)   \n",
       "845766        32  RUA MARTINHO DE CAMPOS, S/N  (POSTO AGRÍCOLA)   \n",
       "845767         2  RUA MARTINHO DE CAMPOS, S/N  (POSTO AGRÍCOLA)   \n",
       "845768         2  RUA MARTINHO DE CAMPOS, S/N  (POSTO AGRÍCOLA)   \n",
       "845769         5  RUA MARTINHO DE CAMPOS, S/N  (POSTO AGRÍCOLA)   \n",
       "\n",
       "                 BAIRRO  \n",
       "11      JARDIM BOTÂNICO  \n",
       "12      JARDIM BOTÂNICO  \n",
       "13      JARDIM BOTÂNICO  \n",
       "14      JARDIM BOTÂNICO  \n",
       "15      JARDIM BOTÂNICO  \n",
       "...                 ...  \n",
       "845765       SANTA CRUZ  \n",
       "845766       SANTA CRUZ  \n",
       "845767       SANTA CRUZ  \n",
       "845768       SANTA CRUZ  \n",
       "845769       SANTA CRUZ  \n",
       "\n",
       "[739742 rows x 6 columns]"
      ]
     },
     "execution_count": 10,
     "metadata": {},
     "output_type": "execute_result"
    }
   ],
   "source": [
    "df_final_2016"
   ]
  },
  {
   "cell_type": "markdown",
   "metadata": {},
   "source": [
    "# Análise exploratória dos dados"
   ]
  },
  {
   "cell_type": "markdown",
   "metadata": {},
   "source": [
    "Votação em números absolutos por Zona Eleitoral / Bairro"
   ]
  },
  {
   "cell_type": "code",
   "execution_count": 11,
   "metadata": {},
   "outputs": [],
   "source": [
    "# Votos por Zona Eleitoral em 2016\n",
    "\n",
    "votos_tarcisio_2016 = df_final_2016[df_final_2016['NR_VOTAVEL'] == 50123]\n",
    "votos_tarcisio_2016_org = votos_tarcisio_2016.groupby(by='BAIRRO').sum() \\\n",
    "                    .reset_index() \\\n",
    "                    .sort_values(by=[\"QT_VOTOS\"], ascending = False)"
   ]
  },
  {
   "cell_type": "code",
   "execution_count": 12,
   "metadata": {},
   "outputs": [],
   "source": [
    "# Votos por Zona Eleitoral em 2020\n",
    "\n",
    "votos_tarcisio_2020 = df_final_2020[df_final_2020['NR_VOTAVEL'] == 50123]\n",
    "votos_tarcisio_2020_org = votos_tarcisio_2020.groupby(by='BAIRRO').sum() \\\n",
    "                    .reset_index() \\\n",
    "                    .sort_values(by=[\"QT_VOTOS\"], ascending = False)"
   ]
  },
  {
   "cell_type": "markdown",
   "metadata": {},
   "source": [
    "Descobrindo estatísticas gerais"
   ]
  },
  {
   "cell_type": "code",
   "execution_count": 13,
   "metadata": {},
   "outputs": [],
   "source": [
    "# Somando os votos por Zona Eleitoral como um todo\n",
    "\n",
    "votos_bairro_2016_total = df_final_2016.groupby(by='BAIRRO').sum() \\\n",
    "                                                    .reset_index() \\\n",
    "                                                    .sort_values(by=[\"BAIRRO\"])\n",
    "votos_bairro_2020_total = df_final_2020.groupby(by='BAIRRO').sum() \\\n",
    "                                                    .reset_index() \\\n",
    "                                                    .sort_values(by=[\"BAIRRO\"])"
   ]
  },
  {
   "cell_type": "code",
   "execution_count": 14,
   "metadata": {},
   "outputs": [],
   "source": [
    "# Ordenando as votações por bairro em ordem alfabética\n",
    "\n",
    "votos_bairro_2016_tarcisio = votos_tarcisio_2016_org.sort_values(by=['BAIRRO'])\n",
    "votos_bairro_2020_tarcisio = votos_tarcisio_2020_org.sort_values(by=['BAIRRO'])"
   ]
  },
  {
   "cell_type": "code",
   "execution_count": 15,
   "metadata": {},
   "outputs": [
    {
     "data": {
      "text/html": [
       "<div>\n",
       "<style scoped>\n",
       "    .dataframe tbody tr th:only-of-type {\n",
       "        vertical-align: middle;\n",
       "    }\n",
       "\n",
       "    .dataframe tbody tr th {\n",
       "        vertical-align: top;\n",
       "    }\n",
       "\n",
       "    .dataframe thead th {\n",
       "        text-align: right;\n",
       "    }\n",
       "</style>\n",
       "<table border=\"1\" class=\"dataframe\">\n",
       "  <thead>\n",
       "    <tr style=\"text-align: right;\">\n",
       "      <th></th>\n",
       "      <th>BAIRRO</th>\n",
       "      <th>NR_ZONA</th>\n",
       "      <th>NR_VOTAVEL</th>\n",
       "      <th>QT_VOTOS</th>\n",
       "    </tr>\n",
       "  </thead>\n",
       "  <tbody>\n",
       "    <tr>\n",
       "      <th>0</th>\n",
       "      <td>BARRA DA TIJUCA</td>\n",
       "      <td>7848477</td>\n",
       "      <td>2219302281</td>\n",
       "      <td>238893</td>\n",
       "    </tr>\n",
       "    <tr>\n",
       "      <th>1</th>\n",
       "      <td>CAMPO GRANDE</td>\n",
       "      <td>12718570</td>\n",
       "      <td>1890791560</td>\n",
       "      <td>232692</td>\n",
       "    </tr>\n",
       "    <tr>\n",
       "      <th>2</th>\n",
       "      <td>CASCADURA</td>\n",
       "      <td>7545135</td>\n",
       "      <td>1075935704</td>\n",
       "      <td>124073</td>\n",
       "    </tr>\n",
       "    <tr>\n",
       "      <th>3</th>\n",
       "      <td>COPACABANA</td>\n",
       "      <td>51030</td>\n",
       "      <td>287535636</td>\n",
       "      <td>23649</td>\n",
       "    </tr>\n",
       "    <tr>\n",
       "      <th>4</th>\n",
       "      <td>DEL CASTILHO</td>\n",
       "      <td>2827664</td>\n",
       "      <td>710262381</td>\n",
       "      <td>71956</td>\n",
       "    </tr>\n",
       "    <tr>\n",
       "      <th>5</th>\n",
       "      <td>DEODORO</td>\n",
       "      <td>1337502</td>\n",
       "      <td>291276828</td>\n",
       "      <td>40230</td>\n",
       "    </tr>\n",
       "    <tr>\n",
       "      <th>6</th>\n",
       "      <td>ILHA DO GOVERNADOR</td>\n",
       "      <td>2644968</td>\n",
       "      <td>379722661</td>\n",
       "      <td>44400</td>\n",
       "    </tr>\n",
       "    <tr>\n",
       "      <th>7</th>\n",
       "      <td>IRAJÁ</td>\n",
       "      <td>4866081</td>\n",
       "      <td>1103577404</td>\n",
       "      <td>141780</td>\n",
       "    </tr>\n",
       "    <tr>\n",
       "      <th>8</th>\n",
       "      <td>JARDIM BOTÂNICO</td>\n",
       "      <td>4062099</td>\n",
       "      <td>1255296352</td>\n",
       "      <td>125271</td>\n",
       "    </tr>\n",
       "    <tr>\n",
       "      <th>9</th>\n",
       "      <td>JARDIM SULACAP</td>\n",
       "      <td>2845674</td>\n",
       "      <td>319381278</td>\n",
       "      <td>38373</td>\n",
       "    </tr>\n",
       "    <tr>\n",
       "      <th>10</th>\n",
       "      <td>LARANJEIRAS</td>\n",
       "      <td>199360</td>\n",
       "      <td>351964841</td>\n",
       "      <td>35359</td>\n",
       "    </tr>\n",
       "    <tr>\n",
       "      <th>11</th>\n",
       "      <td>MAGALHÃES BASTOS</td>\n",
       "      <td>8690679</td>\n",
       "      <td>1334505757</td>\n",
       "      <td>173091</td>\n",
       "    </tr>\n",
       "    <tr>\n",
       "      <th>12</th>\n",
       "      <td>MARACANÃ</td>\n",
       "      <td>5991135</td>\n",
       "      <td>812797560</td>\n",
       "      <td>83378</td>\n",
       "    </tr>\n",
       "    <tr>\n",
       "      <th>13</th>\n",
       "      <td>MARECHAL HERMES</td>\n",
       "      <td>303117</td>\n",
       "      <td>350902317</td>\n",
       "      <td>41621</td>\n",
       "    </tr>\n",
       "    <tr>\n",
       "      <th>14</th>\n",
       "      <td>MEIER</td>\n",
       "      <td>2854118</td>\n",
       "      <td>368181027</td>\n",
       "      <td>36947</td>\n",
       "    </tr>\n",
       "    <tr>\n",
       "      <th>15</th>\n",
       "      <td>OLARIA</td>\n",
       "      <td>4748472</td>\n",
       "      <td>1104179151</td>\n",
       "      <td>144103</td>\n",
       "    </tr>\n",
       "    <tr>\n",
       "      <th>16</th>\n",
       "      <td>PIEDADE</td>\n",
       "      <td>141600</td>\n",
       "      <td>389910041</td>\n",
       "      <td>39535</td>\n",
       "    </tr>\n",
       "    <tr>\n",
       "      <th>17</th>\n",
       "      <td>PORTUGUESA</td>\n",
       "      <td>3155904</td>\n",
       "      <td>460935107</td>\n",
       "      <td>48822</td>\n",
       "    </tr>\n",
       "    <tr>\n",
       "      <th>18</th>\n",
       "      <td>SANTA CRUZ</td>\n",
       "      <td>13130665</td>\n",
       "      <td>1944700616</td>\n",
       "      <td>287310</td>\n",
       "    </tr>\n",
       "    <tr>\n",
       "      <th>19</th>\n",
       "      <td>SAUDE</td>\n",
       "      <td>4459469</td>\n",
       "      <td>652391666</td>\n",
       "      <td>64050</td>\n",
       "    </tr>\n",
       "    <tr>\n",
       "      <th>20</th>\n",
       "      <td>TAQUARA</td>\n",
       "      <td>11471655</td>\n",
       "      <td>1739763591</td>\n",
       "      <td>180429</td>\n",
       "    </tr>\n",
       "    <tr>\n",
       "      <th>21</th>\n",
       "      <td>TIJUCA</td>\n",
       "      <td>138607</td>\n",
       "      <td>553894819</td>\n",
       "      <td>52498</td>\n",
       "    </tr>\n",
       "    <tr>\n",
       "      <th>22</th>\n",
       "      <td>TODOS OS SANTOS</td>\n",
       "      <td>146650</td>\n",
       "      <td>291222500</td>\n",
       "      <td>26930</td>\n",
       "    </tr>\n",
       "    <tr>\n",
       "      <th>23</th>\n",
       "      <td>VILA DA PENHA</td>\n",
       "      <td>2068000</td>\n",
       "      <td>294797781</td>\n",
       "      <td>36225</td>\n",
       "    </tr>\n",
       "  </tbody>\n",
       "</table>\n",
       "</div>"
      ],
      "text/plain": [
       "                BAIRRO   NR_ZONA  NR_VOTAVEL  QT_VOTOS\n",
       "0      BARRA DA TIJUCA   7848477  2219302281    238893\n",
       "1         CAMPO GRANDE  12718570  1890791560    232692\n",
       "2            CASCADURA   7545135  1075935704    124073\n",
       "3           COPACABANA     51030   287535636     23649\n",
       "4         DEL CASTILHO   2827664   710262381     71956\n",
       "5              DEODORO   1337502   291276828     40230\n",
       "6   ILHA DO GOVERNADOR   2644968   379722661     44400\n",
       "7                IRAJÁ   4866081  1103577404    141780\n",
       "8      JARDIM BOTÂNICO   4062099  1255296352    125271\n",
       "9       JARDIM SULACAP   2845674   319381278     38373\n",
       "10         LARANJEIRAS    199360   351964841     35359\n",
       "11    MAGALHÃES BASTOS   8690679  1334505757    173091\n",
       "12            MARACANÃ   5991135   812797560     83378\n",
       "13     MARECHAL HERMES    303117   350902317     41621\n",
       "14               MEIER   2854118   368181027     36947\n",
       "15              OLARIA   4748472  1104179151    144103\n",
       "16             PIEDADE    141600   389910041     39535\n",
       "17          PORTUGUESA   3155904   460935107     48822\n",
       "18          SANTA CRUZ  13130665  1944700616    287310\n",
       "19               SAUDE   4459469   652391666     64050\n",
       "20             TAQUARA  11471655  1739763591    180429\n",
       "21              TIJUCA    138607   553894819     52498\n",
       "22     TODOS OS SANTOS    146650   291222500     26930\n",
       "23       VILA DA PENHA   2068000   294797781     36225"
      ]
     },
     "execution_count": 15,
     "metadata": {},
     "output_type": "execute_result"
    }
   ],
   "source": [
    "votos_bairro_2016_total"
   ]
  },
  {
   "cell_type": "markdown",
   "metadata": {},
   "source": [
    "O que mudou entre 2016 e 2020?"
   ]
  },
  {
   "cell_type": "code",
   "execution_count": 16,
   "metadata": {},
   "outputs": [
    {
     "data": {
      "text/html": [
       "<div>\n",
       "<style scoped>\n",
       "    .dataframe tbody tr th:only-of-type {\n",
       "        vertical-align: middle;\n",
       "    }\n",
       "\n",
       "    .dataframe tbody tr th {\n",
       "        vertical-align: top;\n",
       "    }\n",
       "\n",
       "    .dataframe thead th {\n",
       "        text-align: right;\n",
       "    }\n",
       "</style>\n",
       "<table border=\"1\" class=\"dataframe\">\n",
       "  <thead>\n",
       "    <tr style=\"text-align: right;\">\n",
       "      <th></th>\n",
       "      <th>BAIRRO</th>\n",
       "      <th>TOTAL_VOTOS_2016</th>\n",
       "      <th>TOTAL_VOTOS_2020</th>\n",
       "    </tr>\n",
       "  </thead>\n",
       "  <tbody>\n",
       "    <tr>\n",
       "      <th>0</th>\n",
       "      <td>BARRA DA TIJUCA</td>\n",
       "      <td>238893</td>\n",
       "      <td>266714</td>\n",
       "    </tr>\n",
       "    <tr>\n",
       "      <th>1</th>\n",
       "      <td>CAMPO GRANDE</td>\n",
       "      <td>232692</td>\n",
       "      <td>236049</td>\n",
       "    </tr>\n",
       "    <tr>\n",
       "      <th>2</th>\n",
       "      <td>CASCADURA</td>\n",
       "      <td>124073</td>\n",
       "      <td>186506</td>\n",
       "    </tr>\n",
       "    <tr>\n",
       "      <th>3</th>\n",
       "      <td>COPACABANA</td>\n",
       "      <td>23649</td>\n",
       "      <td>68884</td>\n",
       "    </tr>\n",
       "    <tr>\n",
       "      <th>4</th>\n",
       "      <td>DEL CASTILHO</td>\n",
       "      <td>71956</td>\n",
       "      <td>114104</td>\n",
       "    </tr>\n",
       "    <tr>\n",
       "      <th>5</th>\n",
       "      <td>DEODORO</td>\n",
       "      <td>40230</td>\n",
       "      <td>63609</td>\n",
       "    </tr>\n",
       "    <tr>\n",
       "      <th>6</th>\n",
       "      <td>ILHA DO GOVERNADOR</td>\n",
       "      <td>44400</td>\n",
       "      <td>68111</td>\n",
       "    </tr>\n",
       "    <tr>\n",
       "      <th>7</th>\n",
       "      <td>IRAJÁ</td>\n",
       "      <td>141780</td>\n",
       "      <td>191059</td>\n",
       "    </tr>\n",
       "    <tr>\n",
       "      <th>8</th>\n",
       "      <td>JARDIM BOTÂNICO</td>\n",
       "      <td>125271</td>\n",
       "      <td>203823</td>\n",
       "    </tr>\n",
       "    <tr>\n",
       "      <th>9</th>\n",
       "      <td>JARDIM SULACAP</td>\n",
       "      <td>38373</td>\n",
       "      <td>59620</td>\n",
       "    </tr>\n",
       "    <tr>\n",
       "      <th>10</th>\n",
       "      <td>LARANJEIRAS</td>\n",
       "      <td>35359</td>\n",
       "      <td>74538</td>\n",
       "    </tr>\n",
       "    <tr>\n",
       "      <th>11</th>\n",
       "      <td>MAGALHÃES BASTOS</td>\n",
       "      <td>173091</td>\n",
       "      <td>269095</td>\n",
       "    </tr>\n",
       "    <tr>\n",
       "      <th>12</th>\n",
       "      <td>MARACANÃ</td>\n",
       "      <td>83378</td>\n",
       "      <td>158327</td>\n",
       "    </tr>\n",
       "    <tr>\n",
       "      <th>13</th>\n",
       "      <td>MARECHAL HERMES</td>\n",
       "      <td>41621</td>\n",
       "      <td>57411</td>\n",
       "    </tr>\n",
       "    <tr>\n",
       "      <th>14</th>\n",
       "      <td>MEIER</td>\n",
       "      <td>36947</td>\n",
       "      <td>87839</td>\n",
       "    </tr>\n",
       "    <tr>\n",
       "      <th>15</th>\n",
       "      <td>OLARIA</td>\n",
       "      <td>144103</td>\n",
       "      <td>204664</td>\n",
       "    </tr>\n",
       "    <tr>\n",
       "      <th>16</th>\n",
       "      <td>PIEDADE</td>\n",
       "      <td>39535</td>\n",
       "      <td>57530</td>\n",
       "    </tr>\n",
       "    <tr>\n",
       "      <th>17</th>\n",
       "      <td>PORTUGUESA</td>\n",
       "      <td>48822</td>\n",
       "      <td>41052</td>\n",
       "    </tr>\n",
       "    <tr>\n",
       "      <th>18</th>\n",
       "      <td>SANTA CRUZ</td>\n",
       "      <td>287310</td>\n",
       "      <td>304672</td>\n",
       "    </tr>\n",
       "    <tr>\n",
       "      <th>19</th>\n",
       "      <td>SAUDE</td>\n",
       "      <td>64050</td>\n",
       "      <td>128341</td>\n",
       "    </tr>\n",
       "    <tr>\n",
       "      <th>20</th>\n",
       "      <td>TAQUARA</td>\n",
       "      <td>180429</td>\n",
       "      <td>197672</td>\n",
       "    </tr>\n",
       "    <tr>\n",
       "      <th>21</th>\n",
       "      <td>TIJUCA</td>\n",
       "      <td>52498</td>\n",
       "      <td>70003</td>\n",
       "    </tr>\n",
       "    <tr>\n",
       "      <th>22</th>\n",
       "      <td>TODOS OS SANTOS</td>\n",
       "      <td>26930</td>\n",
       "      <td>59999</td>\n",
       "    </tr>\n",
       "    <tr>\n",
       "      <th>23</th>\n",
       "      <td>VILA DA PENHA</td>\n",
       "      <td>36225</td>\n",
       "      <td>91389</td>\n",
       "    </tr>\n",
       "  </tbody>\n",
       "</table>\n",
       "</div>"
      ],
      "text/plain": [
       "                BAIRRO  TOTAL_VOTOS_2016  TOTAL_VOTOS_2020\n",
       "0      BARRA DA TIJUCA            238893            266714\n",
       "1         CAMPO GRANDE            232692            236049\n",
       "2            CASCADURA            124073            186506\n",
       "3           COPACABANA             23649             68884\n",
       "4         DEL CASTILHO             71956            114104\n",
       "5              DEODORO             40230             63609\n",
       "6   ILHA DO GOVERNADOR             44400             68111\n",
       "7                IRAJÁ            141780            191059\n",
       "8      JARDIM BOTÂNICO            125271            203823\n",
       "9       JARDIM SULACAP             38373             59620\n",
       "10         LARANJEIRAS             35359             74538\n",
       "11    MAGALHÃES BASTOS            173091            269095\n",
       "12            MARACANÃ             83378            158327\n",
       "13     MARECHAL HERMES             41621             57411\n",
       "14               MEIER             36947             87839\n",
       "15              OLARIA            144103            204664\n",
       "16             PIEDADE             39535             57530\n",
       "17          PORTUGUESA             48822             41052\n",
       "18          SANTA CRUZ            287310            304672\n",
       "19               SAUDE             64050            128341\n",
       "20             TAQUARA            180429            197672\n",
       "21              TIJUCA             52498             70003\n",
       "22     TODOS OS SANTOS             26930             59999\n",
       "23       VILA DA PENHA             36225             91389"
      ]
     },
     "execution_count": 16,
     "metadata": {},
     "output_type": "execute_result"
    }
   ],
   "source": [
    "# Construindo um banco de dados com os números absolutos de votação\n",
    "\n",
    "votos_bairro_2016_total['TOTAL_VOTOS_2020'] = votos_bairro_2020_total['QT_VOTOS']\n",
    "votacao_bairro_2016_2020 = votos_bairro_2016_total.drop(['NR_ZONA', 'NR_VOTAVEL'], axis = 1)\n",
    "\n",
    "votos_total_ano = votacao_bairro_2016_2020.rename(columns={'QT_VOTOS':'TOTAL_VOTOS_2016'})\n",
    "votos_total_ano"
   ]
  },
  {
   "cell_type": "code",
   "execution_count": 17,
   "metadata": {},
   "outputs": [
    {
     "data": {
      "text/html": [
       "<div>\n",
       "<style scoped>\n",
       "    .dataframe tbody tr th:only-of-type {\n",
       "        vertical-align: middle;\n",
       "    }\n",
       "\n",
       "    .dataframe tbody tr th {\n",
       "        vertical-align: top;\n",
       "    }\n",
       "\n",
       "    .dataframe thead th {\n",
       "        text-align: right;\n",
       "    }\n",
       "</style>\n",
       "<table border=\"1\" class=\"dataframe\">\n",
       "  <thead>\n",
       "    <tr style=\"text-align: right;\">\n",
       "      <th></th>\n",
       "      <th>BAIRRO</th>\n",
       "      <th>TOTAL_VOTOS_2016</th>\n",
       "      <th>TOTAL_VOTOS_2020</th>\n",
       "      <th>TARCISIO_2016</th>\n",
       "      <th>TARCISIO_2020</th>\n",
       "    </tr>\n",
       "  </thead>\n",
       "  <tbody>\n",
       "    <tr>\n",
       "      <th>0</th>\n",
       "      <td>BARRA DA TIJUCA</td>\n",
       "      <td>238893</td>\n",
       "      <td>266714</td>\n",
       "      <td>6182</td>\n",
       "      <td>7253</td>\n",
       "    </tr>\n",
       "    <tr>\n",
       "      <th>1</th>\n",
       "      <td>CAMPO GRANDE</td>\n",
       "      <td>232692</td>\n",
       "      <td>236049</td>\n",
       "      <td>2085</td>\n",
       "      <td>3231</td>\n",
       "    </tr>\n",
       "    <tr>\n",
       "      <th>2</th>\n",
       "      <td>CASCADURA</td>\n",
       "      <td>124073</td>\n",
       "      <td>186506</td>\n",
       "      <td>1583</td>\n",
       "      <td>3373</td>\n",
       "    </tr>\n",
       "    <tr>\n",
       "      <th>3</th>\n",
       "      <td>COPACABANA</td>\n",
       "      <td>23649</td>\n",
       "      <td>68884</td>\n",
       "      <td>1110</td>\n",
       "      <td>3000</td>\n",
       "    </tr>\n",
       "    <tr>\n",
       "      <th>4</th>\n",
       "      <td>DEL CASTILHO</td>\n",
       "      <td>71956</td>\n",
       "      <td>114104</td>\n",
       "      <td>2054</td>\n",
       "      <td>3973</td>\n",
       "    </tr>\n",
       "    <tr>\n",
       "      <th>5</th>\n",
       "      <td>DEODORO</td>\n",
       "      <td>40230</td>\n",
       "      <td>63609</td>\n",
       "      <td>434</td>\n",
       "      <td>835</td>\n",
       "    </tr>\n",
       "    <tr>\n",
       "      <th>6</th>\n",
       "      <td>ILHA DO GOVERNADOR</td>\n",
       "      <td>44400</td>\n",
       "      <td>68111</td>\n",
       "      <td>1196</td>\n",
       "      <td>2119</td>\n",
       "    </tr>\n",
       "    <tr>\n",
       "      <th>7</th>\n",
       "      <td>IRAJÁ</td>\n",
       "      <td>141780</td>\n",
       "      <td>191059</td>\n",
       "      <td>1977</td>\n",
       "      <td>3669</td>\n",
       "    </tr>\n",
       "    <tr>\n",
       "      <th>8</th>\n",
       "      <td>JARDIM BOTÂNICO</td>\n",
       "      <td>125271</td>\n",
       "      <td>203823</td>\n",
       "      <td>5282</td>\n",
       "      <td>8302</td>\n",
       "    </tr>\n",
       "    <tr>\n",
       "      <th>9</th>\n",
       "      <td>JARDIM SULACAP</td>\n",
       "      <td>38373</td>\n",
       "      <td>59620</td>\n",
       "      <td>506</td>\n",
       "      <td>1053</td>\n",
       "    </tr>\n",
       "    <tr>\n",
       "      <th>10</th>\n",
       "      <td>LARANJEIRAS</td>\n",
       "      <td>35359</td>\n",
       "      <td>74538</td>\n",
       "      <td>2944</td>\n",
       "      <td>4656</td>\n",
       "    </tr>\n",
       "    <tr>\n",
       "      <th>11</th>\n",
       "      <td>MAGALHÃES BASTOS</td>\n",
       "      <td>173091</td>\n",
       "      <td>269095</td>\n",
       "      <td>1613</td>\n",
       "      <td>3770</td>\n",
       "    </tr>\n",
       "    <tr>\n",
       "      <th>12</th>\n",
       "      <td>MARACANÃ</td>\n",
       "      <td>83378</td>\n",
       "      <td>158327</td>\n",
       "      <td>3844</td>\n",
       "      <td>8299</td>\n",
       "    </tr>\n",
       "    <tr>\n",
       "      <th>13</th>\n",
       "      <td>MARECHAL HERMES</td>\n",
       "      <td>41621</td>\n",
       "      <td>57411</td>\n",
       "      <td>456</td>\n",
       "      <td>1063</td>\n",
       "    </tr>\n",
       "    <tr>\n",
       "      <th>14</th>\n",
       "      <td>MEIER</td>\n",
       "      <td>36947</td>\n",
       "      <td>87839</td>\n",
       "      <td>1594</td>\n",
       "      <td>3729</td>\n",
       "    </tr>\n",
       "    <tr>\n",
       "      <th>15</th>\n",
       "      <td>OLARIA</td>\n",
       "      <td>144103</td>\n",
       "      <td>204664</td>\n",
       "      <td>1491</td>\n",
       "      <td>4628</td>\n",
       "    </tr>\n",
       "    <tr>\n",
       "      <th>16</th>\n",
       "      <td>PIEDADE</td>\n",
       "      <td>39535</td>\n",
       "      <td>57530</td>\n",
       "      <td>882</td>\n",
       "      <td>1628</td>\n",
       "    </tr>\n",
       "    <tr>\n",
       "      <th>17</th>\n",
       "      <td>PORTUGUESA</td>\n",
       "      <td>48822</td>\n",
       "      <td>41052</td>\n",
       "      <td>1667</td>\n",
       "      <td>1639</td>\n",
       "    </tr>\n",
       "    <tr>\n",
       "      <th>18</th>\n",
       "      <td>SANTA CRUZ</td>\n",
       "      <td>287310</td>\n",
       "      <td>304672</td>\n",
       "      <td>1438</td>\n",
       "      <td>2548</td>\n",
       "    </tr>\n",
       "    <tr>\n",
       "      <th>19</th>\n",
       "      <td>SAUDE</td>\n",
       "      <td>64050</td>\n",
       "      <td>128341</td>\n",
       "      <td>1743</td>\n",
       "      <td>3449</td>\n",
       "    </tr>\n",
       "    <tr>\n",
       "      <th>20</th>\n",
       "      <td>TAQUARA</td>\n",
       "      <td>180429</td>\n",
       "      <td>197672</td>\n",
       "      <td>4348</td>\n",
       "      <td>5641</td>\n",
       "    </tr>\n",
       "    <tr>\n",
       "      <th>21</th>\n",
       "      <td>TIJUCA</td>\n",
       "      <td>52498</td>\n",
       "      <td>70003</td>\n",
       "      <td>3424</td>\n",
       "      <td>3981</td>\n",
       "    </tr>\n",
       "    <tr>\n",
       "      <th>22</th>\n",
       "      <td>TODOS OS SANTOS</td>\n",
       "      <td>26930</td>\n",
       "      <td>59999</td>\n",
       "      <td>756</td>\n",
       "      <td>1897</td>\n",
       "    </tr>\n",
       "    <tr>\n",
       "      <th>23</th>\n",
       "      <td>VILA DA PENHA</td>\n",
       "      <td>36225</td>\n",
       "      <td>91389</td>\n",
       "      <td>364</td>\n",
       "      <td>2507</td>\n",
       "    </tr>\n",
       "  </tbody>\n",
       "</table>\n",
       "</div>"
      ],
      "text/plain": [
       "                BAIRRO  TOTAL_VOTOS_2016  TOTAL_VOTOS_2020  TARCISIO_2016  \\\n",
       "0      BARRA DA TIJUCA            238893            266714           6182   \n",
       "1         CAMPO GRANDE            232692            236049           2085   \n",
       "2            CASCADURA            124073            186506           1583   \n",
       "3           COPACABANA             23649             68884           1110   \n",
       "4         DEL CASTILHO             71956            114104           2054   \n",
       "5              DEODORO             40230             63609            434   \n",
       "6   ILHA DO GOVERNADOR             44400             68111           1196   \n",
       "7                IRAJÁ            141780            191059           1977   \n",
       "8      JARDIM BOTÂNICO            125271            203823           5282   \n",
       "9       JARDIM SULACAP             38373             59620            506   \n",
       "10         LARANJEIRAS             35359             74538           2944   \n",
       "11    MAGALHÃES BASTOS            173091            269095           1613   \n",
       "12            MARACANÃ             83378            158327           3844   \n",
       "13     MARECHAL HERMES             41621             57411            456   \n",
       "14               MEIER             36947             87839           1594   \n",
       "15              OLARIA            144103            204664           1491   \n",
       "16             PIEDADE             39535             57530            882   \n",
       "17          PORTUGUESA             48822             41052           1667   \n",
       "18          SANTA CRUZ            287310            304672           1438   \n",
       "19               SAUDE             64050            128341           1743   \n",
       "20             TAQUARA            180429            197672           4348   \n",
       "21              TIJUCA             52498             70003           3424   \n",
       "22     TODOS OS SANTOS             26930             59999            756   \n",
       "23       VILA DA PENHA             36225             91389            364   \n",
       "\n",
       "    TARCISIO_2020  \n",
       "0            7253  \n",
       "1            3231  \n",
       "2            3373  \n",
       "3            3000  \n",
       "4            3973  \n",
       "5             835  \n",
       "6            2119  \n",
       "7            3669  \n",
       "8            8302  \n",
       "9            1053  \n",
       "10           4656  \n",
       "11           3770  \n",
       "12           8299  \n",
       "13           1063  \n",
       "14           3729  \n",
       "15           4628  \n",
       "16           1628  \n",
       "17           1639  \n",
       "18           2548  \n",
       "19           3449  \n",
       "20           5641  \n",
       "21           3981  \n",
       "22           1897  \n",
       "23           2507  "
      ]
     },
     "execution_count": 17,
     "metadata": {},
     "output_type": "execute_result"
    }
   ],
   "source": [
    "votos_total_ano['TARCISIO_2016'] = votos_bairro_2016_tarcisio['QT_VOTOS']\n",
    "votos_total_ano['TARCISIO_2020'] = votos_bairro_2020_tarcisio['QT_VOTOS']\n",
    "\n",
    "votos_total_ano"
   ]
  },
  {
   "cell_type": "code",
   "execution_count": 18,
   "metadata": {},
   "outputs": [],
   "source": [
    "#Votação proporcional por ano\n",
    "\n",
    "votos_proporcionais_2016 = votos_total_ano['TARCISIO_2016'] / votos_total_ano['TOTAL_VOTOS_2016']\n",
    "votos_proporcionais_2020 = votos_total_ano['TARCISIO_2020'] / votos_total_ano['TOTAL_VOTOS_2020']"
   ]
  },
  {
   "cell_type": "code",
   "execution_count": 19,
   "metadata": {},
   "outputs": [
    {
     "data": {
      "text/html": [
       "<div>\n",
       "<style scoped>\n",
       "    .dataframe tbody tr th:only-of-type {\n",
       "        vertical-align: middle;\n",
       "    }\n",
       "\n",
       "    .dataframe tbody tr th {\n",
       "        vertical-align: top;\n",
       "    }\n",
       "\n",
       "    .dataframe thead th {\n",
       "        text-align: right;\n",
       "    }\n",
       "</style>\n",
       "<table border=\"1\" class=\"dataframe\">\n",
       "  <thead>\n",
       "    <tr style=\"text-align: right;\">\n",
       "      <th></th>\n",
       "      <th>BAIRRO</th>\n",
       "      <th>TOTAL_VOTOS_2016</th>\n",
       "      <th>TOTAL_VOTOS_2020</th>\n",
       "      <th>TARCISIO_2016</th>\n",
       "      <th>TARCISIO_2020</th>\n",
       "      <th>PROPORCIONAL_2016</th>\n",
       "      <th>PROPORCIONAL_2020</th>\n",
       "      <th>VARIACAO</th>\n",
       "    </tr>\n",
       "  </thead>\n",
       "  <tbody>\n",
       "    <tr>\n",
       "      <th>0</th>\n",
       "      <td>BARRA DA TIJUCA</td>\n",
       "      <td>238893</td>\n",
       "      <td>266714</td>\n",
       "      <td>6182</td>\n",
       "      <td>7253</td>\n",
       "      <td>0.025878</td>\n",
       "      <td>0.027194</td>\n",
       "      <td>1.173245</td>\n",
       "    </tr>\n",
       "    <tr>\n",
       "      <th>1</th>\n",
       "      <td>CAMPO GRANDE</td>\n",
       "      <td>232692</td>\n",
       "      <td>236049</td>\n",
       "      <td>2085</td>\n",
       "      <td>3231</td>\n",
       "      <td>0.008960</td>\n",
       "      <td>0.013688</td>\n",
       "      <td>1.549640</td>\n",
       "    </tr>\n",
       "    <tr>\n",
       "      <th>2</th>\n",
       "      <td>CASCADURA</td>\n",
       "      <td>124073</td>\n",
       "      <td>186506</td>\n",
       "      <td>1583</td>\n",
       "      <td>3373</td>\n",
       "      <td>0.012759</td>\n",
       "      <td>0.018085</td>\n",
       "      <td>2.130764</td>\n",
       "    </tr>\n",
       "    <tr>\n",
       "      <th>3</th>\n",
       "      <td>COPACABANA</td>\n",
       "      <td>23649</td>\n",
       "      <td>68884</td>\n",
       "      <td>1110</td>\n",
       "      <td>3000</td>\n",
       "      <td>0.046936</td>\n",
       "      <td>0.043551</td>\n",
       "      <td>2.702703</td>\n",
       "    </tr>\n",
       "    <tr>\n",
       "      <th>4</th>\n",
       "      <td>DEL CASTILHO</td>\n",
       "      <td>71956</td>\n",
       "      <td>114104</td>\n",
       "      <td>2054</td>\n",
       "      <td>3973</td>\n",
       "      <td>0.028545</td>\n",
       "      <td>0.034819</td>\n",
       "      <td>1.934275</td>\n",
       "    </tr>\n",
       "    <tr>\n",
       "      <th>5</th>\n",
       "      <td>DEODORO</td>\n",
       "      <td>40230</td>\n",
       "      <td>63609</td>\n",
       "      <td>434</td>\n",
       "      <td>835</td>\n",
       "      <td>0.010788</td>\n",
       "      <td>0.013127</td>\n",
       "      <td>1.923963</td>\n",
       "    </tr>\n",
       "    <tr>\n",
       "      <th>6</th>\n",
       "      <td>ILHA DO GOVERNADOR</td>\n",
       "      <td>44400</td>\n",
       "      <td>68111</td>\n",
       "      <td>1196</td>\n",
       "      <td>2119</td>\n",
       "      <td>0.026937</td>\n",
       "      <td>0.031111</td>\n",
       "      <td>1.771739</td>\n",
       "    </tr>\n",
       "    <tr>\n",
       "      <th>7</th>\n",
       "      <td>IRAJÁ</td>\n",
       "      <td>141780</td>\n",
       "      <td>191059</td>\n",
       "      <td>1977</td>\n",
       "      <td>3669</td>\n",
       "      <td>0.013944</td>\n",
       "      <td>0.019203</td>\n",
       "      <td>1.855842</td>\n",
       "    </tr>\n",
       "    <tr>\n",
       "      <th>8</th>\n",
       "      <td>JARDIM BOTÂNICO</td>\n",
       "      <td>125271</td>\n",
       "      <td>203823</td>\n",
       "      <td>5282</td>\n",
       "      <td>8302</td>\n",
       "      <td>0.042165</td>\n",
       "      <td>0.040731</td>\n",
       "      <td>1.571753</td>\n",
       "    </tr>\n",
       "    <tr>\n",
       "      <th>9</th>\n",
       "      <td>JARDIM SULACAP</td>\n",
       "      <td>38373</td>\n",
       "      <td>59620</td>\n",
       "      <td>506</td>\n",
       "      <td>1053</td>\n",
       "      <td>0.013186</td>\n",
       "      <td>0.017662</td>\n",
       "      <td>2.081028</td>\n",
       "    </tr>\n",
       "    <tr>\n",
       "      <th>10</th>\n",
       "      <td>LARANJEIRAS</td>\n",
       "      <td>35359</td>\n",
       "      <td>74538</td>\n",
       "      <td>2944</td>\n",
       "      <td>4656</td>\n",
       "      <td>0.083260</td>\n",
       "      <td>0.062465</td>\n",
       "      <td>1.581522</td>\n",
       "    </tr>\n",
       "    <tr>\n",
       "      <th>11</th>\n",
       "      <td>MAGALHÃES BASTOS</td>\n",
       "      <td>173091</td>\n",
       "      <td>269095</td>\n",
       "      <td>1613</td>\n",
       "      <td>3770</td>\n",
       "      <td>0.009319</td>\n",
       "      <td>0.014010</td>\n",
       "      <td>2.337260</td>\n",
       "    </tr>\n",
       "    <tr>\n",
       "      <th>12</th>\n",
       "      <td>MARACANÃ</td>\n",
       "      <td>83378</td>\n",
       "      <td>158327</td>\n",
       "      <td>3844</td>\n",
       "      <td>8299</td>\n",
       "      <td>0.046103</td>\n",
       "      <td>0.052417</td>\n",
       "      <td>2.158949</td>\n",
       "    </tr>\n",
       "    <tr>\n",
       "      <th>13</th>\n",
       "      <td>MARECHAL HERMES</td>\n",
       "      <td>41621</td>\n",
       "      <td>57411</td>\n",
       "      <td>456</td>\n",
       "      <td>1063</td>\n",
       "      <td>0.010956</td>\n",
       "      <td>0.018516</td>\n",
       "      <td>2.331140</td>\n",
       "    </tr>\n",
       "    <tr>\n",
       "      <th>14</th>\n",
       "      <td>MEIER</td>\n",
       "      <td>36947</td>\n",
       "      <td>87839</td>\n",
       "      <td>1594</td>\n",
       "      <td>3729</td>\n",
       "      <td>0.043143</td>\n",
       "      <td>0.042453</td>\n",
       "      <td>2.339398</td>\n",
       "    </tr>\n",
       "    <tr>\n",
       "      <th>15</th>\n",
       "      <td>OLARIA</td>\n",
       "      <td>144103</td>\n",
       "      <td>204664</td>\n",
       "      <td>1491</td>\n",
       "      <td>4628</td>\n",
       "      <td>0.010347</td>\n",
       "      <td>0.022613</td>\n",
       "      <td>3.103957</td>\n",
       "    </tr>\n",
       "    <tr>\n",
       "      <th>16</th>\n",
       "      <td>PIEDADE</td>\n",
       "      <td>39535</td>\n",
       "      <td>57530</td>\n",
       "      <td>882</td>\n",
       "      <td>1628</td>\n",
       "      <td>0.022309</td>\n",
       "      <td>0.028298</td>\n",
       "      <td>1.845805</td>\n",
       "    </tr>\n",
       "    <tr>\n",
       "      <th>17</th>\n",
       "      <td>PORTUGUESA</td>\n",
       "      <td>48822</td>\n",
       "      <td>41052</td>\n",
       "      <td>1667</td>\n",
       "      <td>1639</td>\n",
       "      <td>0.034144</td>\n",
       "      <td>0.039925</td>\n",
       "      <td>0.983203</td>\n",
       "    </tr>\n",
       "    <tr>\n",
       "      <th>18</th>\n",
       "      <td>SANTA CRUZ</td>\n",
       "      <td>287310</td>\n",
       "      <td>304672</td>\n",
       "      <td>1438</td>\n",
       "      <td>2548</td>\n",
       "      <td>0.005005</td>\n",
       "      <td>0.008363</td>\n",
       "      <td>1.771905</td>\n",
       "    </tr>\n",
       "    <tr>\n",
       "      <th>19</th>\n",
       "      <td>SAUDE</td>\n",
       "      <td>64050</td>\n",
       "      <td>128341</td>\n",
       "      <td>1743</td>\n",
       "      <td>3449</td>\n",
       "      <td>0.027213</td>\n",
       "      <td>0.026874</td>\n",
       "      <td>1.978772</td>\n",
       "    </tr>\n",
       "    <tr>\n",
       "      <th>20</th>\n",
       "      <td>TAQUARA</td>\n",
       "      <td>180429</td>\n",
       "      <td>197672</td>\n",
       "      <td>4348</td>\n",
       "      <td>5641</td>\n",
       "      <td>0.024098</td>\n",
       "      <td>0.028537</td>\n",
       "      <td>1.297378</td>\n",
       "    </tr>\n",
       "    <tr>\n",
       "      <th>21</th>\n",
       "      <td>TIJUCA</td>\n",
       "      <td>52498</td>\n",
       "      <td>70003</td>\n",
       "      <td>3424</td>\n",
       "      <td>3981</td>\n",
       "      <td>0.065222</td>\n",
       "      <td>0.056869</td>\n",
       "      <td>1.162675</td>\n",
       "    </tr>\n",
       "    <tr>\n",
       "      <th>22</th>\n",
       "      <td>TODOS OS SANTOS</td>\n",
       "      <td>26930</td>\n",
       "      <td>59999</td>\n",
       "      <td>756</td>\n",
       "      <td>1897</td>\n",
       "      <td>0.028073</td>\n",
       "      <td>0.031617</td>\n",
       "      <td>2.509259</td>\n",
       "    </tr>\n",
       "    <tr>\n",
       "      <th>23</th>\n",
       "      <td>VILA DA PENHA</td>\n",
       "      <td>36225</td>\n",
       "      <td>91389</td>\n",
       "      <td>364</td>\n",
       "      <td>2507</td>\n",
       "      <td>0.010048</td>\n",
       "      <td>0.027432</td>\n",
       "      <td>6.887363</td>\n",
       "    </tr>\n",
       "  </tbody>\n",
       "</table>\n",
       "</div>"
      ],
      "text/plain": [
       "                BAIRRO  TOTAL_VOTOS_2016  TOTAL_VOTOS_2020  TARCISIO_2016  \\\n",
       "0      BARRA DA TIJUCA            238893            266714           6182   \n",
       "1         CAMPO GRANDE            232692            236049           2085   \n",
       "2            CASCADURA            124073            186506           1583   \n",
       "3           COPACABANA             23649             68884           1110   \n",
       "4         DEL CASTILHO             71956            114104           2054   \n",
       "5              DEODORO             40230             63609            434   \n",
       "6   ILHA DO GOVERNADOR             44400             68111           1196   \n",
       "7                IRAJÁ            141780            191059           1977   \n",
       "8      JARDIM BOTÂNICO            125271            203823           5282   \n",
       "9       JARDIM SULACAP             38373             59620            506   \n",
       "10         LARANJEIRAS             35359             74538           2944   \n",
       "11    MAGALHÃES BASTOS            173091            269095           1613   \n",
       "12            MARACANÃ             83378            158327           3844   \n",
       "13     MARECHAL HERMES             41621             57411            456   \n",
       "14               MEIER             36947             87839           1594   \n",
       "15              OLARIA            144103            204664           1491   \n",
       "16             PIEDADE             39535             57530            882   \n",
       "17          PORTUGUESA             48822             41052           1667   \n",
       "18          SANTA CRUZ            287310            304672           1438   \n",
       "19               SAUDE             64050            128341           1743   \n",
       "20             TAQUARA            180429            197672           4348   \n",
       "21              TIJUCA             52498             70003           3424   \n",
       "22     TODOS OS SANTOS             26930             59999            756   \n",
       "23       VILA DA PENHA             36225             91389            364   \n",
       "\n",
       "    TARCISIO_2020  PROPORCIONAL_2016  PROPORCIONAL_2020  VARIACAO  \n",
       "0            7253           0.025878           0.027194  1.173245  \n",
       "1            3231           0.008960           0.013688  1.549640  \n",
       "2            3373           0.012759           0.018085  2.130764  \n",
       "3            3000           0.046936           0.043551  2.702703  \n",
       "4            3973           0.028545           0.034819  1.934275  \n",
       "5             835           0.010788           0.013127  1.923963  \n",
       "6            2119           0.026937           0.031111  1.771739  \n",
       "7            3669           0.013944           0.019203  1.855842  \n",
       "8            8302           0.042165           0.040731  1.571753  \n",
       "9            1053           0.013186           0.017662  2.081028  \n",
       "10           4656           0.083260           0.062465  1.581522  \n",
       "11           3770           0.009319           0.014010  2.337260  \n",
       "12           8299           0.046103           0.052417  2.158949  \n",
       "13           1063           0.010956           0.018516  2.331140  \n",
       "14           3729           0.043143           0.042453  2.339398  \n",
       "15           4628           0.010347           0.022613  3.103957  \n",
       "16           1628           0.022309           0.028298  1.845805  \n",
       "17           1639           0.034144           0.039925  0.983203  \n",
       "18           2548           0.005005           0.008363  1.771905  \n",
       "19           3449           0.027213           0.026874  1.978772  \n",
       "20           5641           0.024098           0.028537  1.297378  \n",
       "21           3981           0.065222           0.056869  1.162675  \n",
       "22           1897           0.028073           0.031617  2.509259  \n",
       "23           2507           0.010048           0.027432  6.887363  "
      ]
     },
     "execution_count": 19,
     "metadata": {},
     "output_type": "execute_result"
    }
   ],
   "source": [
    "# Verificando o total de votos do Veredor Tarcísio Motta e o total de votos, organizado por bairro\n",
    "\n",
    "votos_total_ano['PROPORCIONAL_2016'] = votos_proporcionais_2016\n",
    "votos_total_ano['PROPORCIONAL_2020'] = votos_proporcionais_2020\n",
    "\n",
    "votos_total_ano['VARIACAO'] = votos_total_ano['TARCISIO_2020'] / votos_total_ano['TARCISIO_2016'] \n",
    "\n",
    "votos_total_ano"
   ]
  },
  {
   "cell_type": "code",
   "execution_count": 20,
   "metadata": {},
   "outputs": [],
   "source": [
    "# Variação proporcional ao número de votantes em cada ano\n",
    "\n",
    "votos_total_ano['VARICAO_PROPORCIONAL'] = votos_total_ano['PROPORCIONAL_2020'] / votos_total_ano['PROPORCIONAL_2016']\n"
   ]
  },
  {
   "cell_type": "markdown",
   "metadata": {},
   "source": [
    "# Visualizando os votos em números absolutos, proporcionais e a variação da votação nas eleições"
   ]
  },
  {
   "cell_type": "code",
   "execution_count": 21,
   "metadata": {},
   "outputs": [
    {
     "data": {
      "application/vnd.plotly.v1+json": {
       "config": {
        "plotlyServerURL": "https://plot.ly"
       },
       "data": [
        {
         "alignmentgroup": "True",
         "hovertemplate": "BAIRRO=%{x}<br>QT_VOTOS=%{y}<extra></extra>",
         "legendgroup": "",
         "marker": {
          "color": "#636efa",
          "pattern": {
           "shape": ""
          }
         },
         "name": "",
         "offsetgroup": "",
         "orientation": "v",
         "showlegend": false,
         "textposition": "auto",
         "type": "bar",
         "x": [
          "BARRA DA TIJUCA",
          "JARDIM BOTÂNICO",
          "TAQUARA",
          "MARACANÃ",
          "TIJUCA",
          "LARANJEIRAS",
          "CAMPO GRANDE",
          "DEL CASTILHO",
          "IRAJÁ",
          "SAUDE",
          "PORTUGUESA",
          "MAGALHÃES BASTOS",
          "MEIER",
          "CASCADURA",
          "OLARIA",
          "SANTA CRUZ",
          "ILHA DO GOVERNADOR",
          "COPACABANA",
          "PIEDADE",
          "TODOS OS SANTOS",
          "JARDIM SULACAP",
          "MARECHAL HERMES",
          "DEODORO",
          "VILA DA PENHA"
         ],
         "xaxis": "x",
         "y": [
          6182,
          5282,
          4348,
          3844,
          3424,
          2944,
          2085,
          2054,
          1977,
          1743,
          1667,
          1613,
          1594,
          1583,
          1491,
          1438,
          1196,
          1110,
          882,
          756,
          506,
          456,
          434,
          364
         ],
         "yaxis": "y"
        }
       ],
       "layout": {
        "barmode": "relative",
        "legend": {
         "tracegroupgap": 0
        },
        "margin": {
         "t": 60
        },
        "template": {
         "data": {
          "bar": [
           {
            "error_x": {
             "color": "#2a3f5f"
            },
            "error_y": {
             "color": "#2a3f5f"
            },
            "marker": {
             "line": {
              "color": "#E5ECF6",
              "width": 0.5
             },
             "pattern": {
              "fillmode": "overlay",
              "size": 10,
              "solidity": 0.2
             }
            },
            "type": "bar"
           }
          ],
          "barpolar": [
           {
            "marker": {
             "line": {
              "color": "#E5ECF6",
              "width": 0.5
             },
             "pattern": {
              "fillmode": "overlay",
              "size": 10,
              "solidity": 0.2
             }
            },
            "type": "barpolar"
           }
          ],
          "carpet": [
           {
            "aaxis": {
             "endlinecolor": "#2a3f5f",
             "gridcolor": "white",
             "linecolor": "white",
             "minorgridcolor": "white",
             "startlinecolor": "#2a3f5f"
            },
            "baxis": {
             "endlinecolor": "#2a3f5f",
             "gridcolor": "white",
             "linecolor": "white",
             "minorgridcolor": "white",
             "startlinecolor": "#2a3f5f"
            },
            "type": "carpet"
           }
          ],
          "choropleth": [
           {
            "colorbar": {
             "outlinewidth": 0,
             "ticks": ""
            },
            "type": "choropleth"
           }
          ],
          "contour": [
           {
            "colorbar": {
             "outlinewidth": 0,
             "ticks": ""
            },
            "colorscale": [
             [
              0,
              "#0d0887"
             ],
             [
              0.1111111111111111,
              "#46039f"
             ],
             [
              0.2222222222222222,
              "#7201a8"
             ],
             [
              0.3333333333333333,
              "#9c179e"
             ],
             [
              0.4444444444444444,
              "#bd3786"
             ],
             [
              0.5555555555555556,
              "#d8576b"
             ],
             [
              0.6666666666666666,
              "#ed7953"
             ],
             [
              0.7777777777777778,
              "#fb9f3a"
             ],
             [
              0.8888888888888888,
              "#fdca26"
             ],
             [
              1,
              "#f0f921"
             ]
            ],
            "type": "contour"
           }
          ],
          "contourcarpet": [
           {
            "colorbar": {
             "outlinewidth": 0,
             "ticks": ""
            },
            "type": "contourcarpet"
           }
          ],
          "heatmap": [
           {
            "colorbar": {
             "outlinewidth": 0,
             "ticks": ""
            },
            "colorscale": [
             [
              0,
              "#0d0887"
             ],
             [
              0.1111111111111111,
              "#46039f"
             ],
             [
              0.2222222222222222,
              "#7201a8"
             ],
             [
              0.3333333333333333,
              "#9c179e"
             ],
             [
              0.4444444444444444,
              "#bd3786"
             ],
             [
              0.5555555555555556,
              "#d8576b"
             ],
             [
              0.6666666666666666,
              "#ed7953"
             ],
             [
              0.7777777777777778,
              "#fb9f3a"
             ],
             [
              0.8888888888888888,
              "#fdca26"
             ],
             [
              1,
              "#f0f921"
             ]
            ],
            "type": "heatmap"
           }
          ],
          "heatmapgl": [
           {
            "colorbar": {
             "outlinewidth": 0,
             "ticks": ""
            },
            "colorscale": [
             [
              0,
              "#0d0887"
             ],
             [
              0.1111111111111111,
              "#46039f"
             ],
             [
              0.2222222222222222,
              "#7201a8"
             ],
             [
              0.3333333333333333,
              "#9c179e"
             ],
             [
              0.4444444444444444,
              "#bd3786"
             ],
             [
              0.5555555555555556,
              "#d8576b"
             ],
             [
              0.6666666666666666,
              "#ed7953"
             ],
             [
              0.7777777777777778,
              "#fb9f3a"
             ],
             [
              0.8888888888888888,
              "#fdca26"
             ],
             [
              1,
              "#f0f921"
             ]
            ],
            "type": "heatmapgl"
           }
          ],
          "histogram": [
           {
            "marker": {
             "pattern": {
              "fillmode": "overlay",
              "size": 10,
              "solidity": 0.2
             }
            },
            "type": "histogram"
           }
          ],
          "histogram2d": [
           {
            "colorbar": {
             "outlinewidth": 0,
             "ticks": ""
            },
            "colorscale": [
             [
              0,
              "#0d0887"
             ],
             [
              0.1111111111111111,
              "#46039f"
             ],
             [
              0.2222222222222222,
              "#7201a8"
             ],
             [
              0.3333333333333333,
              "#9c179e"
             ],
             [
              0.4444444444444444,
              "#bd3786"
             ],
             [
              0.5555555555555556,
              "#d8576b"
             ],
             [
              0.6666666666666666,
              "#ed7953"
             ],
             [
              0.7777777777777778,
              "#fb9f3a"
             ],
             [
              0.8888888888888888,
              "#fdca26"
             ],
             [
              1,
              "#f0f921"
             ]
            ],
            "type": "histogram2d"
           }
          ],
          "histogram2dcontour": [
           {
            "colorbar": {
             "outlinewidth": 0,
             "ticks": ""
            },
            "colorscale": [
             [
              0,
              "#0d0887"
             ],
             [
              0.1111111111111111,
              "#46039f"
             ],
             [
              0.2222222222222222,
              "#7201a8"
             ],
             [
              0.3333333333333333,
              "#9c179e"
             ],
             [
              0.4444444444444444,
              "#bd3786"
             ],
             [
              0.5555555555555556,
              "#d8576b"
             ],
             [
              0.6666666666666666,
              "#ed7953"
             ],
             [
              0.7777777777777778,
              "#fb9f3a"
             ],
             [
              0.8888888888888888,
              "#fdca26"
             ],
             [
              1,
              "#f0f921"
             ]
            ],
            "type": "histogram2dcontour"
           }
          ],
          "mesh3d": [
           {
            "colorbar": {
             "outlinewidth": 0,
             "ticks": ""
            },
            "type": "mesh3d"
           }
          ],
          "parcoords": [
           {
            "line": {
             "colorbar": {
              "outlinewidth": 0,
              "ticks": ""
             }
            },
            "type": "parcoords"
           }
          ],
          "pie": [
           {
            "automargin": true,
            "type": "pie"
           }
          ],
          "scatter": [
           {
            "fillpattern": {
             "fillmode": "overlay",
             "size": 10,
             "solidity": 0.2
            },
            "type": "scatter"
           }
          ],
          "scatter3d": [
           {
            "line": {
             "colorbar": {
              "outlinewidth": 0,
              "ticks": ""
             }
            },
            "marker": {
             "colorbar": {
              "outlinewidth": 0,
              "ticks": ""
             }
            },
            "type": "scatter3d"
           }
          ],
          "scattercarpet": [
           {
            "marker": {
             "colorbar": {
              "outlinewidth": 0,
              "ticks": ""
             }
            },
            "type": "scattercarpet"
           }
          ],
          "scattergeo": [
           {
            "marker": {
             "colorbar": {
              "outlinewidth": 0,
              "ticks": ""
             }
            },
            "type": "scattergeo"
           }
          ],
          "scattergl": [
           {
            "marker": {
             "colorbar": {
              "outlinewidth": 0,
              "ticks": ""
             }
            },
            "type": "scattergl"
           }
          ],
          "scattermapbox": [
           {
            "marker": {
             "colorbar": {
              "outlinewidth": 0,
              "ticks": ""
             }
            },
            "type": "scattermapbox"
           }
          ],
          "scatterpolar": [
           {
            "marker": {
             "colorbar": {
              "outlinewidth": 0,
              "ticks": ""
             }
            },
            "type": "scatterpolar"
           }
          ],
          "scatterpolargl": [
           {
            "marker": {
             "colorbar": {
              "outlinewidth": 0,
              "ticks": ""
             }
            },
            "type": "scatterpolargl"
           }
          ],
          "scatterternary": [
           {
            "marker": {
             "colorbar": {
              "outlinewidth": 0,
              "ticks": ""
             }
            },
            "type": "scatterternary"
           }
          ],
          "surface": [
           {
            "colorbar": {
             "outlinewidth": 0,
             "ticks": ""
            },
            "colorscale": [
             [
              0,
              "#0d0887"
             ],
             [
              0.1111111111111111,
              "#46039f"
             ],
             [
              0.2222222222222222,
              "#7201a8"
             ],
             [
              0.3333333333333333,
              "#9c179e"
             ],
             [
              0.4444444444444444,
              "#bd3786"
             ],
             [
              0.5555555555555556,
              "#d8576b"
             ],
             [
              0.6666666666666666,
              "#ed7953"
             ],
             [
              0.7777777777777778,
              "#fb9f3a"
             ],
             [
              0.8888888888888888,
              "#fdca26"
             ],
             [
              1,
              "#f0f921"
             ]
            ],
            "type": "surface"
           }
          ],
          "table": [
           {
            "cells": {
             "fill": {
              "color": "#EBF0F8"
             },
             "line": {
              "color": "white"
             }
            },
            "header": {
             "fill": {
              "color": "#C8D4E3"
             },
             "line": {
              "color": "white"
             }
            },
            "type": "table"
           }
          ]
         },
         "layout": {
          "annotationdefaults": {
           "arrowcolor": "#2a3f5f",
           "arrowhead": 0,
           "arrowwidth": 1
          },
          "autotypenumbers": "strict",
          "coloraxis": {
           "colorbar": {
            "outlinewidth": 0,
            "ticks": ""
           }
          },
          "colorscale": {
           "diverging": [
            [
             0,
             "#8e0152"
            ],
            [
             0.1,
             "#c51b7d"
            ],
            [
             0.2,
             "#de77ae"
            ],
            [
             0.3,
             "#f1b6da"
            ],
            [
             0.4,
             "#fde0ef"
            ],
            [
             0.5,
             "#f7f7f7"
            ],
            [
             0.6,
             "#e6f5d0"
            ],
            [
             0.7,
             "#b8e186"
            ],
            [
             0.8,
             "#7fbc41"
            ],
            [
             0.9,
             "#4d9221"
            ],
            [
             1,
             "#276419"
            ]
           ],
           "sequential": [
            [
             0,
             "#0d0887"
            ],
            [
             0.1111111111111111,
             "#46039f"
            ],
            [
             0.2222222222222222,
             "#7201a8"
            ],
            [
             0.3333333333333333,
             "#9c179e"
            ],
            [
             0.4444444444444444,
             "#bd3786"
            ],
            [
             0.5555555555555556,
             "#d8576b"
            ],
            [
             0.6666666666666666,
             "#ed7953"
            ],
            [
             0.7777777777777778,
             "#fb9f3a"
            ],
            [
             0.8888888888888888,
             "#fdca26"
            ],
            [
             1,
             "#f0f921"
            ]
           ],
           "sequentialminus": [
            [
             0,
             "#0d0887"
            ],
            [
             0.1111111111111111,
             "#46039f"
            ],
            [
             0.2222222222222222,
             "#7201a8"
            ],
            [
             0.3333333333333333,
             "#9c179e"
            ],
            [
             0.4444444444444444,
             "#bd3786"
            ],
            [
             0.5555555555555556,
             "#d8576b"
            ],
            [
             0.6666666666666666,
             "#ed7953"
            ],
            [
             0.7777777777777778,
             "#fb9f3a"
            ],
            [
             0.8888888888888888,
             "#fdca26"
            ],
            [
             1,
             "#f0f921"
            ]
           ]
          },
          "colorway": [
           "#636efa",
           "#EF553B",
           "#00cc96",
           "#ab63fa",
           "#FFA15A",
           "#19d3f3",
           "#FF6692",
           "#B6E880",
           "#FF97FF",
           "#FECB52"
          ],
          "font": {
           "color": "#2a3f5f"
          },
          "geo": {
           "bgcolor": "white",
           "lakecolor": "white",
           "landcolor": "#E5ECF6",
           "showlakes": true,
           "showland": true,
           "subunitcolor": "white"
          },
          "hoverlabel": {
           "align": "left"
          },
          "hovermode": "closest",
          "mapbox": {
           "style": "light"
          },
          "paper_bgcolor": "white",
          "plot_bgcolor": "#E5ECF6",
          "polar": {
           "angularaxis": {
            "gridcolor": "white",
            "linecolor": "white",
            "ticks": ""
           },
           "bgcolor": "#E5ECF6",
           "radialaxis": {
            "gridcolor": "white",
            "linecolor": "white",
            "ticks": ""
           }
          },
          "scene": {
           "xaxis": {
            "backgroundcolor": "#E5ECF6",
            "gridcolor": "white",
            "gridwidth": 2,
            "linecolor": "white",
            "showbackground": true,
            "ticks": "",
            "zerolinecolor": "white"
           },
           "yaxis": {
            "backgroundcolor": "#E5ECF6",
            "gridcolor": "white",
            "gridwidth": 2,
            "linecolor": "white",
            "showbackground": true,
            "ticks": "",
            "zerolinecolor": "white"
           },
           "zaxis": {
            "backgroundcolor": "#E5ECF6",
            "gridcolor": "white",
            "gridwidth": 2,
            "linecolor": "white",
            "showbackground": true,
            "ticks": "",
            "zerolinecolor": "white"
           }
          },
          "shapedefaults": {
           "line": {
            "color": "#2a3f5f"
           }
          },
          "ternary": {
           "aaxis": {
            "gridcolor": "white",
            "linecolor": "white",
            "ticks": ""
           },
           "baxis": {
            "gridcolor": "white",
            "linecolor": "white",
            "ticks": ""
           },
           "bgcolor": "#E5ECF6",
           "caxis": {
            "gridcolor": "white",
            "linecolor": "white",
            "ticks": ""
           }
          },
          "title": {
           "x": 0.05
          },
          "xaxis": {
           "automargin": true,
           "gridcolor": "white",
           "linecolor": "white",
           "ticks": "",
           "title": {
            "standoff": 15
           },
           "zerolinecolor": "white",
           "zerolinewidth": 2
          },
          "yaxis": {
           "automargin": true,
           "gridcolor": "white",
           "linecolor": "white",
           "ticks": "",
           "title": {
            "standoff": 15
           },
           "zerolinecolor": "white",
           "zerolinewidth": 2
          }
         }
        },
        "xaxis": {
         "anchor": "y",
         "domain": [
          0,
          1
         ],
         "title": {
          "text": "BAIRRO"
         }
        },
        "yaxis": {
         "anchor": "x",
         "domain": [
          0,
          1
         ],
         "title": {
          "text": "QT_VOTOS"
         }
        }
       }
      }
     },
     "metadata": {},
     "output_type": "display_data"
    }
   ],
   "source": [
    "# Visualizando os votos em números absolutos por Zona Eleitoral em 2016\n",
    "\n",
    "votos_tarcisio_2016_org.plot.bar(x = 'BAIRRO', y = 'QT_VOTOS')"
   ]
  },
  {
   "cell_type": "code",
   "execution_count": 31,
   "metadata": {},
   "outputs": [
    {
     "data": {
      "application/vnd.plotly.v1+json": {
       "config": {
        "plotlyServerURL": "https://plot.ly"
       },
       "data": [
        {
         "alignmentgroup": "True",
         "hovertemplate": "BAIRRO=%{x}<br>QT_VOTOS=%{y}<extra></extra>",
         "legendgroup": "",
         "marker": {
          "color": "#636efa",
          "pattern": {
           "shape": ""
          }
         },
         "name": "",
         "offsetgroup": "",
         "orientation": "v",
         "showlegend": false,
         "textposition": "auto",
         "type": "bar",
         "x": [
          "JARDIM BOTÂNICO",
          "MARACANÃ",
          "BARRA DA TIJUCA",
          "TAQUARA",
          "LARANJEIRAS",
          "OLARIA",
          "TIJUCA",
          "DEL CASTILHO",
          "MAGALHÃES BASTOS",
          "MEIER",
          "IRAJÁ",
          "SAUDE",
          "CASCADURA",
          "CAMPO GRANDE",
          "COPACABANA",
          "SANTA CRUZ",
          "VILA DA PENHA",
          "ILHA DO GOVERNADOR",
          "TODOS OS SANTOS",
          "PORTUGUESA",
          "PIEDADE",
          "MARECHAL HERMES",
          "JARDIM SULACAP",
          "DEODORO"
         ],
         "xaxis": "x",
         "y": [
          8302,
          8299,
          7253,
          5641,
          4656,
          4628,
          3981,
          3973,
          3770,
          3729,
          3669,
          3449,
          3373,
          3231,
          3000,
          2548,
          2507,
          2119,
          1897,
          1639,
          1628,
          1063,
          1053,
          835
         ],
         "yaxis": "y"
        }
       ],
       "layout": {
        "barmode": "relative",
        "legend": {
         "tracegroupgap": 0
        },
        "margin": {
         "t": 60
        },
        "template": {
         "data": {
          "bar": [
           {
            "error_x": {
             "color": "#2a3f5f"
            },
            "error_y": {
             "color": "#2a3f5f"
            },
            "marker": {
             "line": {
              "color": "#E5ECF6",
              "width": 0.5
             },
             "pattern": {
              "fillmode": "overlay",
              "size": 10,
              "solidity": 0.2
             }
            },
            "type": "bar"
           }
          ],
          "barpolar": [
           {
            "marker": {
             "line": {
              "color": "#E5ECF6",
              "width": 0.5
             },
             "pattern": {
              "fillmode": "overlay",
              "size": 10,
              "solidity": 0.2
             }
            },
            "type": "barpolar"
           }
          ],
          "carpet": [
           {
            "aaxis": {
             "endlinecolor": "#2a3f5f",
             "gridcolor": "white",
             "linecolor": "white",
             "minorgridcolor": "white",
             "startlinecolor": "#2a3f5f"
            },
            "baxis": {
             "endlinecolor": "#2a3f5f",
             "gridcolor": "white",
             "linecolor": "white",
             "minorgridcolor": "white",
             "startlinecolor": "#2a3f5f"
            },
            "type": "carpet"
           }
          ],
          "choropleth": [
           {
            "colorbar": {
             "outlinewidth": 0,
             "ticks": ""
            },
            "type": "choropleth"
           }
          ],
          "contour": [
           {
            "colorbar": {
             "outlinewidth": 0,
             "ticks": ""
            },
            "colorscale": [
             [
              0,
              "#0d0887"
             ],
             [
              0.1111111111111111,
              "#46039f"
             ],
             [
              0.2222222222222222,
              "#7201a8"
             ],
             [
              0.3333333333333333,
              "#9c179e"
             ],
             [
              0.4444444444444444,
              "#bd3786"
             ],
             [
              0.5555555555555556,
              "#d8576b"
             ],
             [
              0.6666666666666666,
              "#ed7953"
             ],
             [
              0.7777777777777778,
              "#fb9f3a"
             ],
             [
              0.8888888888888888,
              "#fdca26"
             ],
             [
              1,
              "#f0f921"
             ]
            ],
            "type": "contour"
           }
          ],
          "contourcarpet": [
           {
            "colorbar": {
             "outlinewidth": 0,
             "ticks": ""
            },
            "type": "contourcarpet"
           }
          ],
          "heatmap": [
           {
            "colorbar": {
             "outlinewidth": 0,
             "ticks": ""
            },
            "colorscale": [
             [
              0,
              "#0d0887"
             ],
             [
              0.1111111111111111,
              "#46039f"
             ],
             [
              0.2222222222222222,
              "#7201a8"
             ],
             [
              0.3333333333333333,
              "#9c179e"
             ],
             [
              0.4444444444444444,
              "#bd3786"
             ],
             [
              0.5555555555555556,
              "#d8576b"
             ],
             [
              0.6666666666666666,
              "#ed7953"
             ],
             [
              0.7777777777777778,
              "#fb9f3a"
             ],
             [
              0.8888888888888888,
              "#fdca26"
             ],
             [
              1,
              "#f0f921"
             ]
            ],
            "type": "heatmap"
           }
          ],
          "heatmapgl": [
           {
            "colorbar": {
             "outlinewidth": 0,
             "ticks": ""
            },
            "colorscale": [
             [
              0,
              "#0d0887"
             ],
             [
              0.1111111111111111,
              "#46039f"
             ],
             [
              0.2222222222222222,
              "#7201a8"
             ],
             [
              0.3333333333333333,
              "#9c179e"
             ],
             [
              0.4444444444444444,
              "#bd3786"
             ],
             [
              0.5555555555555556,
              "#d8576b"
             ],
             [
              0.6666666666666666,
              "#ed7953"
             ],
             [
              0.7777777777777778,
              "#fb9f3a"
             ],
             [
              0.8888888888888888,
              "#fdca26"
             ],
             [
              1,
              "#f0f921"
             ]
            ],
            "type": "heatmapgl"
           }
          ],
          "histogram": [
           {
            "marker": {
             "pattern": {
              "fillmode": "overlay",
              "size": 10,
              "solidity": 0.2
             }
            },
            "type": "histogram"
           }
          ],
          "histogram2d": [
           {
            "colorbar": {
             "outlinewidth": 0,
             "ticks": ""
            },
            "colorscale": [
             [
              0,
              "#0d0887"
             ],
             [
              0.1111111111111111,
              "#46039f"
             ],
             [
              0.2222222222222222,
              "#7201a8"
             ],
             [
              0.3333333333333333,
              "#9c179e"
             ],
             [
              0.4444444444444444,
              "#bd3786"
             ],
             [
              0.5555555555555556,
              "#d8576b"
             ],
             [
              0.6666666666666666,
              "#ed7953"
             ],
             [
              0.7777777777777778,
              "#fb9f3a"
             ],
             [
              0.8888888888888888,
              "#fdca26"
             ],
             [
              1,
              "#f0f921"
             ]
            ],
            "type": "histogram2d"
           }
          ],
          "histogram2dcontour": [
           {
            "colorbar": {
             "outlinewidth": 0,
             "ticks": ""
            },
            "colorscale": [
             [
              0,
              "#0d0887"
             ],
             [
              0.1111111111111111,
              "#46039f"
             ],
             [
              0.2222222222222222,
              "#7201a8"
             ],
             [
              0.3333333333333333,
              "#9c179e"
             ],
             [
              0.4444444444444444,
              "#bd3786"
             ],
             [
              0.5555555555555556,
              "#d8576b"
             ],
             [
              0.6666666666666666,
              "#ed7953"
             ],
             [
              0.7777777777777778,
              "#fb9f3a"
             ],
             [
              0.8888888888888888,
              "#fdca26"
             ],
             [
              1,
              "#f0f921"
             ]
            ],
            "type": "histogram2dcontour"
           }
          ],
          "mesh3d": [
           {
            "colorbar": {
             "outlinewidth": 0,
             "ticks": ""
            },
            "type": "mesh3d"
           }
          ],
          "parcoords": [
           {
            "line": {
             "colorbar": {
              "outlinewidth": 0,
              "ticks": ""
             }
            },
            "type": "parcoords"
           }
          ],
          "pie": [
           {
            "automargin": true,
            "type": "pie"
           }
          ],
          "scatter": [
           {
            "fillpattern": {
             "fillmode": "overlay",
             "size": 10,
             "solidity": 0.2
            },
            "type": "scatter"
           }
          ],
          "scatter3d": [
           {
            "line": {
             "colorbar": {
              "outlinewidth": 0,
              "ticks": ""
             }
            },
            "marker": {
             "colorbar": {
              "outlinewidth": 0,
              "ticks": ""
             }
            },
            "type": "scatter3d"
           }
          ],
          "scattercarpet": [
           {
            "marker": {
             "colorbar": {
              "outlinewidth": 0,
              "ticks": ""
             }
            },
            "type": "scattercarpet"
           }
          ],
          "scattergeo": [
           {
            "marker": {
             "colorbar": {
              "outlinewidth": 0,
              "ticks": ""
             }
            },
            "type": "scattergeo"
           }
          ],
          "scattergl": [
           {
            "marker": {
             "colorbar": {
              "outlinewidth": 0,
              "ticks": ""
             }
            },
            "type": "scattergl"
           }
          ],
          "scattermapbox": [
           {
            "marker": {
             "colorbar": {
              "outlinewidth": 0,
              "ticks": ""
             }
            },
            "type": "scattermapbox"
           }
          ],
          "scatterpolar": [
           {
            "marker": {
             "colorbar": {
              "outlinewidth": 0,
              "ticks": ""
             }
            },
            "type": "scatterpolar"
           }
          ],
          "scatterpolargl": [
           {
            "marker": {
             "colorbar": {
              "outlinewidth": 0,
              "ticks": ""
             }
            },
            "type": "scatterpolargl"
           }
          ],
          "scatterternary": [
           {
            "marker": {
             "colorbar": {
              "outlinewidth": 0,
              "ticks": ""
             }
            },
            "type": "scatterternary"
           }
          ],
          "surface": [
           {
            "colorbar": {
             "outlinewidth": 0,
             "ticks": ""
            },
            "colorscale": [
             [
              0,
              "#0d0887"
             ],
             [
              0.1111111111111111,
              "#46039f"
             ],
             [
              0.2222222222222222,
              "#7201a8"
             ],
             [
              0.3333333333333333,
              "#9c179e"
             ],
             [
              0.4444444444444444,
              "#bd3786"
             ],
             [
              0.5555555555555556,
              "#d8576b"
             ],
             [
              0.6666666666666666,
              "#ed7953"
             ],
             [
              0.7777777777777778,
              "#fb9f3a"
             ],
             [
              0.8888888888888888,
              "#fdca26"
             ],
             [
              1,
              "#f0f921"
             ]
            ],
            "type": "surface"
           }
          ],
          "table": [
           {
            "cells": {
             "fill": {
              "color": "#EBF0F8"
             },
             "line": {
              "color": "white"
             }
            },
            "header": {
             "fill": {
              "color": "#C8D4E3"
             },
             "line": {
              "color": "white"
             }
            },
            "type": "table"
           }
          ]
         },
         "layout": {
          "annotationdefaults": {
           "arrowcolor": "#2a3f5f",
           "arrowhead": 0,
           "arrowwidth": 1
          },
          "autotypenumbers": "strict",
          "coloraxis": {
           "colorbar": {
            "outlinewidth": 0,
            "ticks": ""
           }
          },
          "colorscale": {
           "diverging": [
            [
             0,
             "#8e0152"
            ],
            [
             0.1,
             "#c51b7d"
            ],
            [
             0.2,
             "#de77ae"
            ],
            [
             0.3,
             "#f1b6da"
            ],
            [
             0.4,
             "#fde0ef"
            ],
            [
             0.5,
             "#f7f7f7"
            ],
            [
             0.6,
             "#e6f5d0"
            ],
            [
             0.7,
             "#b8e186"
            ],
            [
             0.8,
             "#7fbc41"
            ],
            [
             0.9,
             "#4d9221"
            ],
            [
             1,
             "#276419"
            ]
           ],
           "sequential": [
            [
             0,
             "#0d0887"
            ],
            [
             0.1111111111111111,
             "#46039f"
            ],
            [
             0.2222222222222222,
             "#7201a8"
            ],
            [
             0.3333333333333333,
             "#9c179e"
            ],
            [
             0.4444444444444444,
             "#bd3786"
            ],
            [
             0.5555555555555556,
             "#d8576b"
            ],
            [
             0.6666666666666666,
             "#ed7953"
            ],
            [
             0.7777777777777778,
             "#fb9f3a"
            ],
            [
             0.8888888888888888,
             "#fdca26"
            ],
            [
             1,
             "#f0f921"
            ]
           ],
           "sequentialminus": [
            [
             0,
             "#0d0887"
            ],
            [
             0.1111111111111111,
             "#46039f"
            ],
            [
             0.2222222222222222,
             "#7201a8"
            ],
            [
             0.3333333333333333,
             "#9c179e"
            ],
            [
             0.4444444444444444,
             "#bd3786"
            ],
            [
             0.5555555555555556,
             "#d8576b"
            ],
            [
             0.6666666666666666,
             "#ed7953"
            ],
            [
             0.7777777777777778,
             "#fb9f3a"
            ],
            [
             0.8888888888888888,
             "#fdca26"
            ],
            [
             1,
             "#f0f921"
            ]
           ]
          },
          "colorway": [
           "#636efa",
           "#EF553B",
           "#00cc96",
           "#ab63fa",
           "#FFA15A",
           "#19d3f3",
           "#FF6692",
           "#B6E880",
           "#FF97FF",
           "#FECB52"
          ],
          "font": {
           "color": "#2a3f5f"
          },
          "geo": {
           "bgcolor": "white",
           "lakecolor": "white",
           "landcolor": "#E5ECF6",
           "showlakes": true,
           "showland": true,
           "subunitcolor": "white"
          },
          "hoverlabel": {
           "align": "left"
          },
          "hovermode": "closest",
          "mapbox": {
           "style": "light"
          },
          "paper_bgcolor": "white",
          "plot_bgcolor": "#E5ECF6",
          "polar": {
           "angularaxis": {
            "gridcolor": "white",
            "linecolor": "white",
            "ticks": ""
           },
           "bgcolor": "#E5ECF6",
           "radialaxis": {
            "gridcolor": "white",
            "linecolor": "white",
            "ticks": ""
           }
          },
          "scene": {
           "xaxis": {
            "backgroundcolor": "#E5ECF6",
            "gridcolor": "white",
            "gridwidth": 2,
            "linecolor": "white",
            "showbackground": true,
            "ticks": "",
            "zerolinecolor": "white"
           },
           "yaxis": {
            "backgroundcolor": "#E5ECF6",
            "gridcolor": "white",
            "gridwidth": 2,
            "linecolor": "white",
            "showbackground": true,
            "ticks": "",
            "zerolinecolor": "white"
           },
           "zaxis": {
            "backgroundcolor": "#E5ECF6",
            "gridcolor": "white",
            "gridwidth": 2,
            "linecolor": "white",
            "showbackground": true,
            "ticks": "",
            "zerolinecolor": "white"
           }
          },
          "shapedefaults": {
           "line": {
            "color": "#2a3f5f"
           }
          },
          "ternary": {
           "aaxis": {
            "gridcolor": "white",
            "linecolor": "white",
            "ticks": ""
           },
           "baxis": {
            "gridcolor": "white",
            "linecolor": "white",
            "ticks": ""
           },
           "bgcolor": "#E5ECF6",
           "caxis": {
            "gridcolor": "white",
            "linecolor": "white",
            "ticks": ""
           }
          },
          "title": {
           "x": 0.05
          },
          "xaxis": {
           "automargin": true,
           "gridcolor": "white",
           "linecolor": "white",
           "ticks": "",
           "title": {
            "standoff": 15
           },
           "zerolinecolor": "white",
           "zerolinewidth": 2
          },
          "yaxis": {
           "automargin": true,
           "gridcolor": "white",
           "linecolor": "white",
           "ticks": "",
           "title": {
            "standoff": 15
           },
           "zerolinecolor": "white",
           "zerolinewidth": 2
          }
         }
        },
        "xaxis": {
         "anchor": "y",
         "domain": [
          0,
          1
         ],
         "title": {
          "text": "BAIRRO"
         }
        },
        "yaxis": {
         "anchor": "x",
         "domain": [
          0,
          1
         ],
         "title": {
          "text": "QT_VOTOS"
         }
        }
       }
      }
     },
     "metadata": {},
     "output_type": "display_data"
    }
   ],
   "source": [
    "# Visualizando os votos em números absolutos por Zona Eleitoral em 2020\n",
    "\n",
    "votos_tarcisio_2020_org.plot.bar(x = 'BAIRRO', y = 'QT_VOTOS')"
   ]
  },
  {
   "cell_type": "code",
   "execution_count": 23,
   "metadata": {},
   "outputs": [
    {
     "data": {
      "application/vnd.plotly.v1+json": {
       "config": {
        "plotlyServerURL": "https://plot.ly"
       },
       "data": [
        {
         "alignmentgroup": "True",
         "hovertemplate": "BAIRRO=%{x}<br>PROPORCIONAL_2016=%{y}<extra></extra>",
         "legendgroup": "",
         "marker": {
          "color": "#636efa",
          "pattern": {
           "shape": ""
          }
         },
         "name": "",
         "offsetgroup": "",
         "orientation": "v",
         "showlegend": false,
         "textposition": "auto",
         "type": "bar",
         "x": [
          "LARANJEIRAS",
          "TIJUCA",
          "COPACABANA",
          "MARACANÃ",
          "MEIER",
          "JARDIM BOTÂNICO",
          "PORTUGUESA",
          "DEL CASTILHO",
          "TODOS OS SANTOS",
          "SAUDE",
          "ILHA DO GOVERNADOR",
          "BARRA DA TIJUCA",
          "TAQUARA",
          "PIEDADE",
          "IRAJÁ",
          "JARDIM SULACAP",
          "CASCADURA",
          "MARECHAL HERMES",
          "DEODORO",
          "OLARIA",
          "VILA DA PENHA",
          "MAGALHÃES BASTOS",
          "CAMPO GRANDE",
          "SANTA CRUZ"
         ],
         "xaxis": "x",
         "y": [
          0.08326027319777143,
          0.06522153224884758,
          0.04693644551566663,
          0.046103288637290414,
          0.043142880342111674,
          0.04216458717500459,
          0.03414444307893982,
          0.0285452220801601,
          0.028072781284812477,
          0.02721311475409836,
          0.026936936936936936,
          0.02587769419782078,
          0.024098121698839986,
          0.022309346148981914,
          0.013944138806601777,
          0.013186354989185104,
          0.012758617910423702,
          0.010956007784531848,
          0.010787969177230922,
          0.010346765854978731,
          0.01004830917874396,
          0.009318797626681918,
          0.008960342426899076,
          0.005005046813546344
         ],
         "yaxis": "y"
        }
       ],
       "layout": {
        "barmode": "relative",
        "legend": {
         "tracegroupgap": 0
        },
        "margin": {
         "t": 60
        },
        "template": {
         "data": {
          "bar": [
           {
            "error_x": {
             "color": "#2a3f5f"
            },
            "error_y": {
             "color": "#2a3f5f"
            },
            "marker": {
             "line": {
              "color": "#E5ECF6",
              "width": 0.5
             },
             "pattern": {
              "fillmode": "overlay",
              "size": 10,
              "solidity": 0.2
             }
            },
            "type": "bar"
           }
          ],
          "barpolar": [
           {
            "marker": {
             "line": {
              "color": "#E5ECF6",
              "width": 0.5
             },
             "pattern": {
              "fillmode": "overlay",
              "size": 10,
              "solidity": 0.2
             }
            },
            "type": "barpolar"
           }
          ],
          "carpet": [
           {
            "aaxis": {
             "endlinecolor": "#2a3f5f",
             "gridcolor": "white",
             "linecolor": "white",
             "minorgridcolor": "white",
             "startlinecolor": "#2a3f5f"
            },
            "baxis": {
             "endlinecolor": "#2a3f5f",
             "gridcolor": "white",
             "linecolor": "white",
             "minorgridcolor": "white",
             "startlinecolor": "#2a3f5f"
            },
            "type": "carpet"
           }
          ],
          "choropleth": [
           {
            "colorbar": {
             "outlinewidth": 0,
             "ticks": ""
            },
            "type": "choropleth"
           }
          ],
          "contour": [
           {
            "colorbar": {
             "outlinewidth": 0,
             "ticks": ""
            },
            "colorscale": [
             [
              0,
              "#0d0887"
             ],
             [
              0.1111111111111111,
              "#46039f"
             ],
             [
              0.2222222222222222,
              "#7201a8"
             ],
             [
              0.3333333333333333,
              "#9c179e"
             ],
             [
              0.4444444444444444,
              "#bd3786"
             ],
             [
              0.5555555555555556,
              "#d8576b"
             ],
             [
              0.6666666666666666,
              "#ed7953"
             ],
             [
              0.7777777777777778,
              "#fb9f3a"
             ],
             [
              0.8888888888888888,
              "#fdca26"
             ],
             [
              1,
              "#f0f921"
             ]
            ],
            "type": "contour"
           }
          ],
          "contourcarpet": [
           {
            "colorbar": {
             "outlinewidth": 0,
             "ticks": ""
            },
            "type": "contourcarpet"
           }
          ],
          "heatmap": [
           {
            "colorbar": {
             "outlinewidth": 0,
             "ticks": ""
            },
            "colorscale": [
             [
              0,
              "#0d0887"
             ],
             [
              0.1111111111111111,
              "#46039f"
             ],
             [
              0.2222222222222222,
              "#7201a8"
             ],
             [
              0.3333333333333333,
              "#9c179e"
             ],
             [
              0.4444444444444444,
              "#bd3786"
             ],
             [
              0.5555555555555556,
              "#d8576b"
             ],
             [
              0.6666666666666666,
              "#ed7953"
             ],
             [
              0.7777777777777778,
              "#fb9f3a"
             ],
             [
              0.8888888888888888,
              "#fdca26"
             ],
             [
              1,
              "#f0f921"
             ]
            ],
            "type": "heatmap"
           }
          ],
          "heatmapgl": [
           {
            "colorbar": {
             "outlinewidth": 0,
             "ticks": ""
            },
            "colorscale": [
             [
              0,
              "#0d0887"
             ],
             [
              0.1111111111111111,
              "#46039f"
             ],
             [
              0.2222222222222222,
              "#7201a8"
             ],
             [
              0.3333333333333333,
              "#9c179e"
             ],
             [
              0.4444444444444444,
              "#bd3786"
             ],
             [
              0.5555555555555556,
              "#d8576b"
             ],
             [
              0.6666666666666666,
              "#ed7953"
             ],
             [
              0.7777777777777778,
              "#fb9f3a"
             ],
             [
              0.8888888888888888,
              "#fdca26"
             ],
             [
              1,
              "#f0f921"
             ]
            ],
            "type": "heatmapgl"
           }
          ],
          "histogram": [
           {
            "marker": {
             "pattern": {
              "fillmode": "overlay",
              "size": 10,
              "solidity": 0.2
             }
            },
            "type": "histogram"
           }
          ],
          "histogram2d": [
           {
            "colorbar": {
             "outlinewidth": 0,
             "ticks": ""
            },
            "colorscale": [
             [
              0,
              "#0d0887"
             ],
             [
              0.1111111111111111,
              "#46039f"
             ],
             [
              0.2222222222222222,
              "#7201a8"
             ],
             [
              0.3333333333333333,
              "#9c179e"
             ],
             [
              0.4444444444444444,
              "#bd3786"
             ],
             [
              0.5555555555555556,
              "#d8576b"
             ],
             [
              0.6666666666666666,
              "#ed7953"
             ],
             [
              0.7777777777777778,
              "#fb9f3a"
             ],
             [
              0.8888888888888888,
              "#fdca26"
             ],
             [
              1,
              "#f0f921"
             ]
            ],
            "type": "histogram2d"
           }
          ],
          "histogram2dcontour": [
           {
            "colorbar": {
             "outlinewidth": 0,
             "ticks": ""
            },
            "colorscale": [
             [
              0,
              "#0d0887"
             ],
             [
              0.1111111111111111,
              "#46039f"
             ],
             [
              0.2222222222222222,
              "#7201a8"
             ],
             [
              0.3333333333333333,
              "#9c179e"
             ],
             [
              0.4444444444444444,
              "#bd3786"
             ],
             [
              0.5555555555555556,
              "#d8576b"
             ],
             [
              0.6666666666666666,
              "#ed7953"
             ],
             [
              0.7777777777777778,
              "#fb9f3a"
             ],
             [
              0.8888888888888888,
              "#fdca26"
             ],
             [
              1,
              "#f0f921"
             ]
            ],
            "type": "histogram2dcontour"
           }
          ],
          "mesh3d": [
           {
            "colorbar": {
             "outlinewidth": 0,
             "ticks": ""
            },
            "type": "mesh3d"
           }
          ],
          "parcoords": [
           {
            "line": {
             "colorbar": {
              "outlinewidth": 0,
              "ticks": ""
             }
            },
            "type": "parcoords"
           }
          ],
          "pie": [
           {
            "automargin": true,
            "type": "pie"
           }
          ],
          "scatter": [
           {
            "fillpattern": {
             "fillmode": "overlay",
             "size": 10,
             "solidity": 0.2
            },
            "type": "scatter"
           }
          ],
          "scatter3d": [
           {
            "line": {
             "colorbar": {
              "outlinewidth": 0,
              "ticks": ""
             }
            },
            "marker": {
             "colorbar": {
              "outlinewidth": 0,
              "ticks": ""
             }
            },
            "type": "scatter3d"
           }
          ],
          "scattercarpet": [
           {
            "marker": {
             "colorbar": {
              "outlinewidth": 0,
              "ticks": ""
             }
            },
            "type": "scattercarpet"
           }
          ],
          "scattergeo": [
           {
            "marker": {
             "colorbar": {
              "outlinewidth": 0,
              "ticks": ""
             }
            },
            "type": "scattergeo"
           }
          ],
          "scattergl": [
           {
            "marker": {
             "colorbar": {
              "outlinewidth": 0,
              "ticks": ""
             }
            },
            "type": "scattergl"
           }
          ],
          "scattermapbox": [
           {
            "marker": {
             "colorbar": {
              "outlinewidth": 0,
              "ticks": ""
             }
            },
            "type": "scattermapbox"
           }
          ],
          "scatterpolar": [
           {
            "marker": {
             "colorbar": {
              "outlinewidth": 0,
              "ticks": ""
             }
            },
            "type": "scatterpolar"
           }
          ],
          "scatterpolargl": [
           {
            "marker": {
             "colorbar": {
              "outlinewidth": 0,
              "ticks": ""
             }
            },
            "type": "scatterpolargl"
           }
          ],
          "scatterternary": [
           {
            "marker": {
             "colorbar": {
              "outlinewidth": 0,
              "ticks": ""
             }
            },
            "type": "scatterternary"
           }
          ],
          "surface": [
           {
            "colorbar": {
             "outlinewidth": 0,
             "ticks": ""
            },
            "colorscale": [
             [
              0,
              "#0d0887"
             ],
             [
              0.1111111111111111,
              "#46039f"
             ],
             [
              0.2222222222222222,
              "#7201a8"
             ],
             [
              0.3333333333333333,
              "#9c179e"
             ],
             [
              0.4444444444444444,
              "#bd3786"
             ],
             [
              0.5555555555555556,
              "#d8576b"
             ],
             [
              0.6666666666666666,
              "#ed7953"
             ],
             [
              0.7777777777777778,
              "#fb9f3a"
             ],
             [
              0.8888888888888888,
              "#fdca26"
             ],
             [
              1,
              "#f0f921"
             ]
            ],
            "type": "surface"
           }
          ],
          "table": [
           {
            "cells": {
             "fill": {
              "color": "#EBF0F8"
             },
             "line": {
              "color": "white"
             }
            },
            "header": {
             "fill": {
              "color": "#C8D4E3"
             },
             "line": {
              "color": "white"
             }
            },
            "type": "table"
           }
          ]
         },
         "layout": {
          "annotationdefaults": {
           "arrowcolor": "#2a3f5f",
           "arrowhead": 0,
           "arrowwidth": 1
          },
          "autotypenumbers": "strict",
          "coloraxis": {
           "colorbar": {
            "outlinewidth": 0,
            "ticks": ""
           }
          },
          "colorscale": {
           "diverging": [
            [
             0,
             "#8e0152"
            ],
            [
             0.1,
             "#c51b7d"
            ],
            [
             0.2,
             "#de77ae"
            ],
            [
             0.3,
             "#f1b6da"
            ],
            [
             0.4,
             "#fde0ef"
            ],
            [
             0.5,
             "#f7f7f7"
            ],
            [
             0.6,
             "#e6f5d0"
            ],
            [
             0.7,
             "#b8e186"
            ],
            [
             0.8,
             "#7fbc41"
            ],
            [
             0.9,
             "#4d9221"
            ],
            [
             1,
             "#276419"
            ]
           ],
           "sequential": [
            [
             0,
             "#0d0887"
            ],
            [
             0.1111111111111111,
             "#46039f"
            ],
            [
             0.2222222222222222,
             "#7201a8"
            ],
            [
             0.3333333333333333,
             "#9c179e"
            ],
            [
             0.4444444444444444,
             "#bd3786"
            ],
            [
             0.5555555555555556,
             "#d8576b"
            ],
            [
             0.6666666666666666,
             "#ed7953"
            ],
            [
             0.7777777777777778,
             "#fb9f3a"
            ],
            [
             0.8888888888888888,
             "#fdca26"
            ],
            [
             1,
             "#f0f921"
            ]
           ],
           "sequentialminus": [
            [
             0,
             "#0d0887"
            ],
            [
             0.1111111111111111,
             "#46039f"
            ],
            [
             0.2222222222222222,
             "#7201a8"
            ],
            [
             0.3333333333333333,
             "#9c179e"
            ],
            [
             0.4444444444444444,
             "#bd3786"
            ],
            [
             0.5555555555555556,
             "#d8576b"
            ],
            [
             0.6666666666666666,
             "#ed7953"
            ],
            [
             0.7777777777777778,
             "#fb9f3a"
            ],
            [
             0.8888888888888888,
             "#fdca26"
            ],
            [
             1,
             "#f0f921"
            ]
           ]
          },
          "colorway": [
           "#636efa",
           "#EF553B",
           "#00cc96",
           "#ab63fa",
           "#FFA15A",
           "#19d3f3",
           "#FF6692",
           "#B6E880",
           "#FF97FF",
           "#FECB52"
          ],
          "font": {
           "color": "#2a3f5f"
          },
          "geo": {
           "bgcolor": "white",
           "lakecolor": "white",
           "landcolor": "#E5ECF6",
           "showlakes": true,
           "showland": true,
           "subunitcolor": "white"
          },
          "hoverlabel": {
           "align": "left"
          },
          "hovermode": "closest",
          "mapbox": {
           "style": "light"
          },
          "paper_bgcolor": "white",
          "plot_bgcolor": "#E5ECF6",
          "polar": {
           "angularaxis": {
            "gridcolor": "white",
            "linecolor": "white",
            "ticks": ""
           },
           "bgcolor": "#E5ECF6",
           "radialaxis": {
            "gridcolor": "white",
            "linecolor": "white",
            "ticks": ""
           }
          },
          "scene": {
           "xaxis": {
            "backgroundcolor": "#E5ECF6",
            "gridcolor": "white",
            "gridwidth": 2,
            "linecolor": "white",
            "showbackground": true,
            "ticks": "",
            "zerolinecolor": "white"
           },
           "yaxis": {
            "backgroundcolor": "#E5ECF6",
            "gridcolor": "white",
            "gridwidth": 2,
            "linecolor": "white",
            "showbackground": true,
            "ticks": "",
            "zerolinecolor": "white"
           },
           "zaxis": {
            "backgroundcolor": "#E5ECF6",
            "gridcolor": "white",
            "gridwidth": 2,
            "linecolor": "white",
            "showbackground": true,
            "ticks": "",
            "zerolinecolor": "white"
           }
          },
          "shapedefaults": {
           "line": {
            "color": "#2a3f5f"
           }
          },
          "ternary": {
           "aaxis": {
            "gridcolor": "white",
            "linecolor": "white",
            "ticks": ""
           },
           "baxis": {
            "gridcolor": "white",
            "linecolor": "white",
            "ticks": ""
           },
           "bgcolor": "#E5ECF6",
           "caxis": {
            "gridcolor": "white",
            "linecolor": "white",
            "ticks": ""
           }
          },
          "title": {
           "x": 0.05
          },
          "xaxis": {
           "automargin": true,
           "gridcolor": "white",
           "linecolor": "white",
           "ticks": "",
           "title": {
            "standoff": 15
           },
           "zerolinecolor": "white",
           "zerolinewidth": 2
          },
          "yaxis": {
           "automargin": true,
           "gridcolor": "white",
           "linecolor": "white",
           "ticks": "",
           "title": {
            "standoff": 15
           },
           "zerolinecolor": "white",
           "zerolinewidth": 2
          }
         }
        },
        "xaxis": {
         "anchor": "y",
         "domain": [
          0,
          1
         ],
         "title": {
          "text": "BAIRRO"
         }
        },
        "yaxis": {
         "anchor": "x",
         "domain": [
          0,
          1
         ],
         "title": {
          "text": "PROPORCIONAL_2016"
         }
        }
       }
      }
     },
     "metadata": {},
     "output_type": "display_data"
    }
   ],
   "source": [
    "# Visualizando a proporção do total atribuídos ao candidato por Zona Eleitoral em 2016\n",
    "\n",
    "votos_total_ano.sort_values(by=['PROPORCIONAL_2016'], ascending=False) \\\n",
    "                .plot.bar('BAIRRO', 'PROPORCIONAL_2016')"
   ]
  },
  {
   "cell_type": "code",
   "execution_count": 24,
   "metadata": {},
   "outputs": [
    {
     "data": {
      "application/vnd.plotly.v1+json": {
       "config": {
        "plotlyServerURL": "https://plot.ly"
       },
       "data": [
        {
         "alignmentgroup": "True",
         "hovertemplate": "BAIRRO=%{x}<br>PROPORCIONAL_2020=%{y}<extra></extra>",
         "legendgroup": "",
         "marker": {
          "color": "#636efa",
          "pattern": {
           "shape": ""
          }
         },
         "name": "",
         "offsetgroup": "",
         "orientation": "v",
         "showlegend": false,
         "textposition": "auto",
         "type": "bar",
         "x": [
          "LARANJEIRAS",
          "TIJUCA",
          "MARACANÃ",
          "COPACABANA",
          "MEIER",
          "JARDIM BOTÂNICO",
          "PORTUGUESA",
          "DEL CASTILHO",
          "TODOS OS SANTOS",
          "ILHA DO GOVERNADOR",
          "TAQUARA",
          "PIEDADE",
          "VILA DA PENHA",
          "BARRA DA TIJUCA",
          "SAUDE",
          "OLARIA",
          "IRAJÁ",
          "MARECHAL HERMES",
          "CASCADURA",
          "JARDIM SULACAP",
          "MAGALHÃES BASTOS",
          "CAMPO GRANDE",
          "DEODORO",
          "SANTA CRUZ"
         ],
         "xaxis": "x",
         "y": [
          0.06246478306367222,
          0.05686899132894305,
          0.05241683351544588,
          0.043551477846814936,
          0.04245266908776284,
          0.04073141892720645,
          0.03992497320471597,
          0.03481911238869803,
          0.031617193619893666,
          0.03111098060518859,
          0.028537172690112914,
          0.02829827915869981,
          0.027432185492783596,
          0.02719392307865354,
          0.026873719232357547,
          0.0226126724778173,
          0.019203492115001126,
          0.018515615474386442,
          0.01808520905493657,
          0.017661858436766185,
          0.014009922146453855,
          0.01368783600015251,
          0.013127073212910123,
          0.008363092112173091
         ],
         "yaxis": "y"
        }
       ],
       "layout": {
        "barmode": "relative",
        "legend": {
         "tracegroupgap": 0
        },
        "margin": {
         "t": 60
        },
        "template": {
         "data": {
          "bar": [
           {
            "error_x": {
             "color": "#2a3f5f"
            },
            "error_y": {
             "color": "#2a3f5f"
            },
            "marker": {
             "line": {
              "color": "#E5ECF6",
              "width": 0.5
             },
             "pattern": {
              "fillmode": "overlay",
              "size": 10,
              "solidity": 0.2
             }
            },
            "type": "bar"
           }
          ],
          "barpolar": [
           {
            "marker": {
             "line": {
              "color": "#E5ECF6",
              "width": 0.5
             },
             "pattern": {
              "fillmode": "overlay",
              "size": 10,
              "solidity": 0.2
             }
            },
            "type": "barpolar"
           }
          ],
          "carpet": [
           {
            "aaxis": {
             "endlinecolor": "#2a3f5f",
             "gridcolor": "white",
             "linecolor": "white",
             "minorgridcolor": "white",
             "startlinecolor": "#2a3f5f"
            },
            "baxis": {
             "endlinecolor": "#2a3f5f",
             "gridcolor": "white",
             "linecolor": "white",
             "minorgridcolor": "white",
             "startlinecolor": "#2a3f5f"
            },
            "type": "carpet"
           }
          ],
          "choropleth": [
           {
            "colorbar": {
             "outlinewidth": 0,
             "ticks": ""
            },
            "type": "choropleth"
           }
          ],
          "contour": [
           {
            "colorbar": {
             "outlinewidth": 0,
             "ticks": ""
            },
            "colorscale": [
             [
              0,
              "#0d0887"
             ],
             [
              0.1111111111111111,
              "#46039f"
             ],
             [
              0.2222222222222222,
              "#7201a8"
             ],
             [
              0.3333333333333333,
              "#9c179e"
             ],
             [
              0.4444444444444444,
              "#bd3786"
             ],
             [
              0.5555555555555556,
              "#d8576b"
             ],
             [
              0.6666666666666666,
              "#ed7953"
             ],
             [
              0.7777777777777778,
              "#fb9f3a"
             ],
             [
              0.8888888888888888,
              "#fdca26"
             ],
             [
              1,
              "#f0f921"
             ]
            ],
            "type": "contour"
           }
          ],
          "contourcarpet": [
           {
            "colorbar": {
             "outlinewidth": 0,
             "ticks": ""
            },
            "type": "contourcarpet"
           }
          ],
          "heatmap": [
           {
            "colorbar": {
             "outlinewidth": 0,
             "ticks": ""
            },
            "colorscale": [
             [
              0,
              "#0d0887"
             ],
             [
              0.1111111111111111,
              "#46039f"
             ],
             [
              0.2222222222222222,
              "#7201a8"
             ],
             [
              0.3333333333333333,
              "#9c179e"
             ],
             [
              0.4444444444444444,
              "#bd3786"
             ],
             [
              0.5555555555555556,
              "#d8576b"
             ],
             [
              0.6666666666666666,
              "#ed7953"
             ],
             [
              0.7777777777777778,
              "#fb9f3a"
             ],
             [
              0.8888888888888888,
              "#fdca26"
             ],
             [
              1,
              "#f0f921"
             ]
            ],
            "type": "heatmap"
           }
          ],
          "heatmapgl": [
           {
            "colorbar": {
             "outlinewidth": 0,
             "ticks": ""
            },
            "colorscale": [
             [
              0,
              "#0d0887"
             ],
             [
              0.1111111111111111,
              "#46039f"
             ],
             [
              0.2222222222222222,
              "#7201a8"
             ],
             [
              0.3333333333333333,
              "#9c179e"
             ],
             [
              0.4444444444444444,
              "#bd3786"
             ],
             [
              0.5555555555555556,
              "#d8576b"
             ],
             [
              0.6666666666666666,
              "#ed7953"
             ],
             [
              0.7777777777777778,
              "#fb9f3a"
             ],
             [
              0.8888888888888888,
              "#fdca26"
             ],
             [
              1,
              "#f0f921"
             ]
            ],
            "type": "heatmapgl"
           }
          ],
          "histogram": [
           {
            "marker": {
             "pattern": {
              "fillmode": "overlay",
              "size": 10,
              "solidity": 0.2
             }
            },
            "type": "histogram"
           }
          ],
          "histogram2d": [
           {
            "colorbar": {
             "outlinewidth": 0,
             "ticks": ""
            },
            "colorscale": [
             [
              0,
              "#0d0887"
             ],
             [
              0.1111111111111111,
              "#46039f"
             ],
             [
              0.2222222222222222,
              "#7201a8"
             ],
             [
              0.3333333333333333,
              "#9c179e"
             ],
             [
              0.4444444444444444,
              "#bd3786"
             ],
             [
              0.5555555555555556,
              "#d8576b"
             ],
             [
              0.6666666666666666,
              "#ed7953"
             ],
             [
              0.7777777777777778,
              "#fb9f3a"
             ],
             [
              0.8888888888888888,
              "#fdca26"
             ],
             [
              1,
              "#f0f921"
             ]
            ],
            "type": "histogram2d"
           }
          ],
          "histogram2dcontour": [
           {
            "colorbar": {
             "outlinewidth": 0,
             "ticks": ""
            },
            "colorscale": [
             [
              0,
              "#0d0887"
             ],
             [
              0.1111111111111111,
              "#46039f"
             ],
             [
              0.2222222222222222,
              "#7201a8"
             ],
             [
              0.3333333333333333,
              "#9c179e"
             ],
             [
              0.4444444444444444,
              "#bd3786"
             ],
             [
              0.5555555555555556,
              "#d8576b"
             ],
             [
              0.6666666666666666,
              "#ed7953"
             ],
             [
              0.7777777777777778,
              "#fb9f3a"
             ],
             [
              0.8888888888888888,
              "#fdca26"
             ],
             [
              1,
              "#f0f921"
             ]
            ],
            "type": "histogram2dcontour"
           }
          ],
          "mesh3d": [
           {
            "colorbar": {
             "outlinewidth": 0,
             "ticks": ""
            },
            "type": "mesh3d"
           }
          ],
          "parcoords": [
           {
            "line": {
             "colorbar": {
              "outlinewidth": 0,
              "ticks": ""
             }
            },
            "type": "parcoords"
           }
          ],
          "pie": [
           {
            "automargin": true,
            "type": "pie"
           }
          ],
          "scatter": [
           {
            "fillpattern": {
             "fillmode": "overlay",
             "size": 10,
             "solidity": 0.2
            },
            "type": "scatter"
           }
          ],
          "scatter3d": [
           {
            "line": {
             "colorbar": {
              "outlinewidth": 0,
              "ticks": ""
             }
            },
            "marker": {
             "colorbar": {
              "outlinewidth": 0,
              "ticks": ""
             }
            },
            "type": "scatter3d"
           }
          ],
          "scattercarpet": [
           {
            "marker": {
             "colorbar": {
              "outlinewidth": 0,
              "ticks": ""
             }
            },
            "type": "scattercarpet"
           }
          ],
          "scattergeo": [
           {
            "marker": {
             "colorbar": {
              "outlinewidth": 0,
              "ticks": ""
             }
            },
            "type": "scattergeo"
           }
          ],
          "scattergl": [
           {
            "marker": {
             "colorbar": {
              "outlinewidth": 0,
              "ticks": ""
             }
            },
            "type": "scattergl"
           }
          ],
          "scattermapbox": [
           {
            "marker": {
             "colorbar": {
              "outlinewidth": 0,
              "ticks": ""
             }
            },
            "type": "scattermapbox"
           }
          ],
          "scatterpolar": [
           {
            "marker": {
             "colorbar": {
              "outlinewidth": 0,
              "ticks": ""
             }
            },
            "type": "scatterpolar"
           }
          ],
          "scatterpolargl": [
           {
            "marker": {
             "colorbar": {
              "outlinewidth": 0,
              "ticks": ""
             }
            },
            "type": "scatterpolargl"
           }
          ],
          "scatterternary": [
           {
            "marker": {
             "colorbar": {
              "outlinewidth": 0,
              "ticks": ""
             }
            },
            "type": "scatterternary"
           }
          ],
          "surface": [
           {
            "colorbar": {
             "outlinewidth": 0,
             "ticks": ""
            },
            "colorscale": [
             [
              0,
              "#0d0887"
             ],
             [
              0.1111111111111111,
              "#46039f"
             ],
             [
              0.2222222222222222,
              "#7201a8"
             ],
             [
              0.3333333333333333,
              "#9c179e"
             ],
             [
              0.4444444444444444,
              "#bd3786"
             ],
             [
              0.5555555555555556,
              "#d8576b"
             ],
             [
              0.6666666666666666,
              "#ed7953"
             ],
             [
              0.7777777777777778,
              "#fb9f3a"
             ],
             [
              0.8888888888888888,
              "#fdca26"
             ],
             [
              1,
              "#f0f921"
             ]
            ],
            "type": "surface"
           }
          ],
          "table": [
           {
            "cells": {
             "fill": {
              "color": "#EBF0F8"
             },
             "line": {
              "color": "white"
             }
            },
            "header": {
             "fill": {
              "color": "#C8D4E3"
             },
             "line": {
              "color": "white"
             }
            },
            "type": "table"
           }
          ]
         },
         "layout": {
          "annotationdefaults": {
           "arrowcolor": "#2a3f5f",
           "arrowhead": 0,
           "arrowwidth": 1
          },
          "autotypenumbers": "strict",
          "coloraxis": {
           "colorbar": {
            "outlinewidth": 0,
            "ticks": ""
           }
          },
          "colorscale": {
           "diverging": [
            [
             0,
             "#8e0152"
            ],
            [
             0.1,
             "#c51b7d"
            ],
            [
             0.2,
             "#de77ae"
            ],
            [
             0.3,
             "#f1b6da"
            ],
            [
             0.4,
             "#fde0ef"
            ],
            [
             0.5,
             "#f7f7f7"
            ],
            [
             0.6,
             "#e6f5d0"
            ],
            [
             0.7,
             "#b8e186"
            ],
            [
             0.8,
             "#7fbc41"
            ],
            [
             0.9,
             "#4d9221"
            ],
            [
             1,
             "#276419"
            ]
           ],
           "sequential": [
            [
             0,
             "#0d0887"
            ],
            [
             0.1111111111111111,
             "#46039f"
            ],
            [
             0.2222222222222222,
             "#7201a8"
            ],
            [
             0.3333333333333333,
             "#9c179e"
            ],
            [
             0.4444444444444444,
             "#bd3786"
            ],
            [
             0.5555555555555556,
             "#d8576b"
            ],
            [
             0.6666666666666666,
             "#ed7953"
            ],
            [
             0.7777777777777778,
             "#fb9f3a"
            ],
            [
             0.8888888888888888,
             "#fdca26"
            ],
            [
             1,
             "#f0f921"
            ]
           ],
           "sequentialminus": [
            [
             0,
             "#0d0887"
            ],
            [
             0.1111111111111111,
             "#46039f"
            ],
            [
             0.2222222222222222,
             "#7201a8"
            ],
            [
             0.3333333333333333,
             "#9c179e"
            ],
            [
             0.4444444444444444,
             "#bd3786"
            ],
            [
             0.5555555555555556,
             "#d8576b"
            ],
            [
             0.6666666666666666,
             "#ed7953"
            ],
            [
             0.7777777777777778,
             "#fb9f3a"
            ],
            [
             0.8888888888888888,
             "#fdca26"
            ],
            [
             1,
             "#f0f921"
            ]
           ]
          },
          "colorway": [
           "#636efa",
           "#EF553B",
           "#00cc96",
           "#ab63fa",
           "#FFA15A",
           "#19d3f3",
           "#FF6692",
           "#B6E880",
           "#FF97FF",
           "#FECB52"
          ],
          "font": {
           "color": "#2a3f5f"
          },
          "geo": {
           "bgcolor": "white",
           "lakecolor": "white",
           "landcolor": "#E5ECF6",
           "showlakes": true,
           "showland": true,
           "subunitcolor": "white"
          },
          "hoverlabel": {
           "align": "left"
          },
          "hovermode": "closest",
          "mapbox": {
           "style": "light"
          },
          "paper_bgcolor": "white",
          "plot_bgcolor": "#E5ECF6",
          "polar": {
           "angularaxis": {
            "gridcolor": "white",
            "linecolor": "white",
            "ticks": ""
           },
           "bgcolor": "#E5ECF6",
           "radialaxis": {
            "gridcolor": "white",
            "linecolor": "white",
            "ticks": ""
           }
          },
          "scene": {
           "xaxis": {
            "backgroundcolor": "#E5ECF6",
            "gridcolor": "white",
            "gridwidth": 2,
            "linecolor": "white",
            "showbackground": true,
            "ticks": "",
            "zerolinecolor": "white"
           },
           "yaxis": {
            "backgroundcolor": "#E5ECF6",
            "gridcolor": "white",
            "gridwidth": 2,
            "linecolor": "white",
            "showbackground": true,
            "ticks": "",
            "zerolinecolor": "white"
           },
           "zaxis": {
            "backgroundcolor": "#E5ECF6",
            "gridcolor": "white",
            "gridwidth": 2,
            "linecolor": "white",
            "showbackground": true,
            "ticks": "",
            "zerolinecolor": "white"
           }
          },
          "shapedefaults": {
           "line": {
            "color": "#2a3f5f"
           }
          },
          "ternary": {
           "aaxis": {
            "gridcolor": "white",
            "linecolor": "white",
            "ticks": ""
           },
           "baxis": {
            "gridcolor": "white",
            "linecolor": "white",
            "ticks": ""
           },
           "bgcolor": "#E5ECF6",
           "caxis": {
            "gridcolor": "white",
            "linecolor": "white",
            "ticks": ""
           }
          },
          "title": {
           "x": 0.05
          },
          "xaxis": {
           "automargin": true,
           "gridcolor": "white",
           "linecolor": "white",
           "ticks": "",
           "title": {
            "standoff": 15
           },
           "zerolinecolor": "white",
           "zerolinewidth": 2
          },
          "yaxis": {
           "automargin": true,
           "gridcolor": "white",
           "linecolor": "white",
           "ticks": "",
           "title": {
            "standoff": 15
           },
           "zerolinecolor": "white",
           "zerolinewidth": 2
          }
         }
        },
        "xaxis": {
         "anchor": "y",
         "domain": [
          0,
          1
         ],
         "title": {
          "text": "BAIRRO"
         }
        },
        "yaxis": {
         "anchor": "x",
         "domain": [
          0,
          1
         ],
         "title": {
          "text": "PROPORCIONAL_2020"
         }
        }
       }
      }
     },
     "metadata": {},
     "output_type": "display_data"
    }
   ],
   "source": [
    "# Visualizando a proporção do total de votos por Zona Eleitoral em 2020\n",
    "\n",
    "votos_total_ano.sort_values(by=['PROPORCIONAL_2020'], ascending=False) \\\n",
    "                .plot.bar('BAIRRO', 'PROPORCIONAL_2020')"
   ]
  },
  {
   "cell_type": "code",
   "execution_count": 25,
   "metadata": {},
   "outputs": [
    {
     "data": {
      "application/vnd.plotly.v1+json": {
       "config": {
        "plotlyServerURL": "https://plot.ly"
       },
       "data": [
        {
         "alignmentgroup": "True",
         "hovertemplate": "BAIRRO=%{x}<br>VARICAO_PROPORCIONAL=%{y}<extra></extra>",
         "legendgroup": "",
         "marker": {
          "color": "#636efa",
          "pattern": {
           "shape": ""
          }
         },
         "name": "",
         "offsetgroup": "",
         "orientation": "v",
         "showlegend": false,
         "textposition": "auto",
         "type": "bar",
         "x": [
          "VILA DA PENHA",
          "OLARIA",
          "MARECHAL HERMES",
          "SANTA CRUZ",
          "CAMPO GRANDE",
          "MAGALHÃES BASTOS",
          "CASCADURA",
          "IRAJÁ",
          "JARDIM SULACAP",
          "PIEDADE",
          "DEL CASTILHO",
          "DEODORO",
          "TAQUARA",
          "PORTUGUESA",
          "ILHA DO GOVERNADOR",
          "MARACANÃ",
          "TODOS OS SANTOS",
          "BARRA DA TIJUCA",
          "SAUDE",
          "MEIER",
          "JARDIM BOTÂNICO",
          "COPACABANA",
          "TIJUCA",
          "LARANJEIRAS"
         ],
         "xaxis": "x",
         "y": [
          2.7300299985606755,
          2.1854821878409836,
          1.6899965606566625,
          1.6709318461393954,
          1.5276018870731358,
          1.5034044849670456,
          1.4174896671340147,
          1.3771730460621445,
          1.3394041379328632,
          1.2684495085478424,
          1.219787756105723,
          1.2168252427543185,
          1.184207343906252,
          1.1692963658072244,
          1.154956136179242,
          1.1369434820111464,
          1.1262579684970058,
          1.0508634529325107,
          0.987528236851693,
          0.984001734495341,
          0.9660101439663156,
          0.9278818915309246,
          0.8719358372625151,
          0.7502351441400767
         ],
         "yaxis": "y"
        }
       ],
       "layout": {
        "barmode": "relative",
        "legend": {
         "tracegroupgap": 0
        },
        "margin": {
         "t": 60
        },
        "template": {
         "data": {
          "bar": [
           {
            "error_x": {
             "color": "#2a3f5f"
            },
            "error_y": {
             "color": "#2a3f5f"
            },
            "marker": {
             "line": {
              "color": "#E5ECF6",
              "width": 0.5
             },
             "pattern": {
              "fillmode": "overlay",
              "size": 10,
              "solidity": 0.2
             }
            },
            "type": "bar"
           }
          ],
          "barpolar": [
           {
            "marker": {
             "line": {
              "color": "#E5ECF6",
              "width": 0.5
             },
             "pattern": {
              "fillmode": "overlay",
              "size": 10,
              "solidity": 0.2
             }
            },
            "type": "barpolar"
           }
          ],
          "carpet": [
           {
            "aaxis": {
             "endlinecolor": "#2a3f5f",
             "gridcolor": "white",
             "linecolor": "white",
             "minorgridcolor": "white",
             "startlinecolor": "#2a3f5f"
            },
            "baxis": {
             "endlinecolor": "#2a3f5f",
             "gridcolor": "white",
             "linecolor": "white",
             "minorgridcolor": "white",
             "startlinecolor": "#2a3f5f"
            },
            "type": "carpet"
           }
          ],
          "choropleth": [
           {
            "colorbar": {
             "outlinewidth": 0,
             "ticks": ""
            },
            "type": "choropleth"
           }
          ],
          "contour": [
           {
            "colorbar": {
             "outlinewidth": 0,
             "ticks": ""
            },
            "colorscale": [
             [
              0,
              "#0d0887"
             ],
             [
              0.1111111111111111,
              "#46039f"
             ],
             [
              0.2222222222222222,
              "#7201a8"
             ],
             [
              0.3333333333333333,
              "#9c179e"
             ],
             [
              0.4444444444444444,
              "#bd3786"
             ],
             [
              0.5555555555555556,
              "#d8576b"
             ],
             [
              0.6666666666666666,
              "#ed7953"
             ],
             [
              0.7777777777777778,
              "#fb9f3a"
             ],
             [
              0.8888888888888888,
              "#fdca26"
             ],
             [
              1,
              "#f0f921"
             ]
            ],
            "type": "contour"
           }
          ],
          "contourcarpet": [
           {
            "colorbar": {
             "outlinewidth": 0,
             "ticks": ""
            },
            "type": "contourcarpet"
           }
          ],
          "heatmap": [
           {
            "colorbar": {
             "outlinewidth": 0,
             "ticks": ""
            },
            "colorscale": [
             [
              0,
              "#0d0887"
             ],
             [
              0.1111111111111111,
              "#46039f"
             ],
             [
              0.2222222222222222,
              "#7201a8"
             ],
             [
              0.3333333333333333,
              "#9c179e"
             ],
             [
              0.4444444444444444,
              "#bd3786"
             ],
             [
              0.5555555555555556,
              "#d8576b"
             ],
             [
              0.6666666666666666,
              "#ed7953"
             ],
             [
              0.7777777777777778,
              "#fb9f3a"
             ],
             [
              0.8888888888888888,
              "#fdca26"
             ],
             [
              1,
              "#f0f921"
             ]
            ],
            "type": "heatmap"
           }
          ],
          "heatmapgl": [
           {
            "colorbar": {
             "outlinewidth": 0,
             "ticks": ""
            },
            "colorscale": [
             [
              0,
              "#0d0887"
             ],
             [
              0.1111111111111111,
              "#46039f"
             ],
             [
              0.2222222222222222,
              "#7201a8"
             ],
             [
              0.3333333333333333,
              "#9c179e"
             ],
             [
              0.4444444444444444,
              "#bd3786"
             ],
             [
              0.5555555555555556,
              "#d8576b"
             ],
             [
              0.6666666666666666,
              "#ed7953"
             ],
             [
              0.7777777777777778,
              "#fb9f3a"
             ],
             [
              0.8888888888888888,
              "#fdca26"
             ],
             [
              1,
              "#f0f921"
             ]
            ],
            "type": "heatmapgl"
           }
          ],
          "histogram": [
           {
            "marker": {
             "pattern": {
              "fillmode": "overlay",
              "size": 10,
              "solidity": 0.2
             }
            },
            "type": "histogram"
           }
          ],
          "histogram2d": [
           {
            "colorbar": {
             "outlinewidth": 0,
             "ticks": ""
            },
            "colorscale": [
             [
              0,
              "#0d0887"
             ],
             [
              0.1111111111111111,
              "#46039f"
             ],
             [
              0.2222222222222222,
              "#7201a8"
             ],
             [
              0.3333333333333333,
              "#9c179e"
             ],
             [
              0.4444444444444444,
              "#bd3786"
             ],
             [
              0.5555555555555556,
              "#d8576b"
             ],
             [
              0.6666666666666666,
              "#ed7953"
             ],
             [
              0.7777777777777778,
              "#fb9f3a"
             ],
             [
              0.8888888888888888,
              "#fdca26"
             ],
             [
              1,
              "#f0f921"
             ]
            ],
            "type": "histogram2d"
           }
          ],
          "histogram2dcontour": [
           {
            "colorbar": {
             "outlinewidth": 0,
             "ticks": ""
            },
            "colorscale": [
             [
              0,
              "#0d0887"
             ],
             [
              0.1111111111111111,
              "#46039f"
             ],
             [
              0.2222222222222222,
              "#7201a8"
             ],
             [
              0.3333333333333333,
              "#9c179e"
             ],
             [
              0.4444444444444444,
              "#bd3786"
             ],
             [
              0.5555555555555556,
              "#d8576b"
             ],
             [
              0.6666666666666666,
              "#ed7953"
             ],
             [
              0.7777777777777778,
              "#fb9f3a"
             ],
             [
              0.8888888888888888,
              "#fdca26"
             ],
             [
              1,
              "#f0f921"
             ]
            ],
            "type": "histogram2dcontour"
           }
          ],
          "mesh3d": [
           {
            "colorbar": {
             "outlinewidth": 0,
             "ticks": ""
            },
            "type": "mesh3d"
           }
          ],
          "parcoords": [
           {
            "line": {
             "colorbar": {
              "outlinewidth": 0,
              "ticks": ""
             }
            },
            "type": "parcoords"
           }
          ],
          "pie": [
           {
            "automargin": true,
            "type": "pie"
           }
          ],
          "scatter": [
           {
            "fillpattern": {
             "fillmode": "overlay",
             "size": 10,
             "solidity": 0.2
            },
            "type": "scatter"
           }
          ],
          "scatter3d": [
           {
            "line": {
             "colorbar": {
              "outlinewidth": 0,
              "ticks": ""
             }
            },
            "marker": {
             "colorbar": {
              "outlinewidth": 0,
              "ticks": ""
             }
            },
            "type": "scatter3d"
           }
          ],
          "scattercarpet": [
           {
            "marker": {
             "colorbar": {
              "outlinewidth": 0,
              "ticks": ""
             }
            },
            "type": "scattercarpet"
           }
          ],
          "scattergeo": [
           {
            "marker": {
             "colorbar": {
              "outlinewidth": 0,
              "ticks": ""
             }
            },
            "type": "scattergeo"
           }
          ],
          "scattergl": [
           {
            "marker": {
             "colorbar": {
              "outlinewidth": 0,
              "ticks": ""
             }
            },
            "type": "scattergl"
           }
          ],
          "scattermapbox": [
           {
            "marker": {
             "colorbar": {
              "outlinewidth": 0,
              "ticks": ""
             }
            },
            "type": "scattermapbox"
           }
          ],
          "scatterpolar": [
           {
            "marker": {
             "colorbar": {
              "outlinewidth": 0,
              "ticks": ""
             }
            },
            "type": "scatterpolar"
           }
          ],
          "scatterpolargl": [
           {
            "marker": {
             "colorbar": {
              "outlinewidth": 0,
              "ticks": ""
             }
            },
            "type": "scatterpolargl"
           }
          ],
          "scatterternary": [
           {
            "marker": {
             "colorbar": {
              "outlinewidth": 0,
              "ticks": ""
             }
            },
            "type": "scatterternary"
           }
          ],
          "surface": [
           {
            "colorbar": {
             "outlinewidth": 0,
             "ticks": ""
            },
            "colorscale": [
             [
              0,
              "#0d0887"
             ],
             [
              0.1111111111111111,
              "#46039f"
             ],
             [
              0.2222222222222222,
              "#7201a8"
             ],
             [
              0.3333333333333333,
              "#9c179e"
             ],
             [
              0.4444444444444444,
              "#bd3786"
             ],
             [
              0.5555555555555556,
              "#d8576b"
             ],
             [
              0.6666666666666666,
              "#ed7953"
             ],
             [
              0.7777777777777778,
              "#fb9f3a"
             ],
             [
              0.8888888888888888,
              "#fdca26"
             ],
             [
              1,
              "#f0f921"
             ]
            ],
            "type": "surface"
           }
          ],
          "table": [
           {
            "cells": {
             "fill": {
              "color": "#EBF0F8"
             },
             "line": {
              "color": "white"
             }
            },
            "header": {
             "fill": {
              "color": "#C8D4E3"
             },
             "line": {
              "color": "white"
             }
            },
            "type": "table"
           }
          ]
         },
         "layout": {
          "annotationdefaults": {
           "arrowcolor": "#2a3f5f",
           "arrowhead": 0,
           "arrowwidth": 1
          },
          "autotypenumbers": "strict",
          "coloraxis": {
           "colorbar": {
            "outlinewidth": 0,
            "ticks": ""
           }
          },
          "colorscale": {
           "diverging": [
            [
             0,
             "#8e0152"
            ],
            [
             0.1,
             "#c51b7d"
            ],
            [
             0.2,
             "#de77ae"
            ],
            [
             0.3,
             "#f1b6da"
            ],
            [
             0.4,
             "#fde0ef"
            ],
            [
             0.5,
             "#f7f7f7"
            ],
            [
             0.6,
             "#e6f5d0"
            ],
            [
             0.7,
             "#b8e186"
            ],
            [
             0.8,
             "#7fbc41"
            ],
            [
             0.9,
             "#4d9221"
            ],
            [
             1,
             "#276419"
            ]
           ],
           "sequential": [
            [
             0,
             "#0d0887"
            ],
            [
             0.1111111111111111,
             "#46039f"
            ],
            [
             0.2222222222222222,
             "#7201a8"
            ],
            [
             0.3333333333333333,
             "#9c179e"
            ],
            [
             0.4444444444444444,
             "#bd3786"
            ],
            [
             0.5555555555555556,
             "#d8576b"
            ],
            [
             0.6666666666666666,
             "#ed7953"
            ],
            [
             0.7777777777777778,
             "#fb9f3a"
            ],
            [
             0.8888888888888888,
             "#fdca26"
            ],
            [
             1,
             "#f0f921"
            ]
           ],
           "sequentialminus": [
            [
             0,
             "#0d0887"
            ],
            [
             0.1111111111111111,
             "#46039f"
            ],
            [
             0.2222222222222222,
             "#7201a8"
            ],
            [
             0.3333333333333333,
             "#9c179e"
            ],
            [
             0.4444444444444444,
             "#bd3786"
            ],
            [
             0.5555555555555556,
             "#d8576b"
            ],
            [
             0.6666666666666666,
             "#ed7953"
            ],
            [
             0.7777777777777778,
             "#fb9f3a"
            ],
            [
             0.8888888888888888,
             "#fdca26"
            ],
            [
             1,
             "#f0f921"
            ]
           ]
          },
          "colorway": [
           "#636efa",
           "#EF553B",
           "#00cc96",
           "#ab63fa",
           "#FFA15A",
           "#19d3f3",
           "#FF6692",
           "#B6E880",
           "#FF97FF",
           "#FECB52"
          ],
          "font": {
           "color": "#2a3f5f"
          },
          "geo": {
           "bgcolor": "white",
           "lakecolor": "white",
           "landcolor": "#E5ECF6",
           "showlakes": true,
           "showland": true,
           "subunitcolor": "white"
          },
          "hoverlabel": {
           "align": "left"
          },
          "hovermode": "closest",
          "mapbox": {
           "style": "light"
          },
          "paper_bgcolor": "white",
          "plot_bgcolor": "#E5ECF6",
          "polar": {
           "angularaxis": {
            "gridcolor": "white",
            "linecolor": "white",
            "ticks": ""
           },
           "bgcolor": "#E5ECF6",
           "radialaxis": {
            "gridcolor": "white",
            "linecolor": "white",
            "ticks": ""
           }
          },
          "scene": {
           "xaxis": {
            "backgroundcolor": "#E5ECF6",
            "gridcolor": "white",
            "gridwidth": 2,
            "linecolor": "white",
            "showbackground": true,
            "ticks": "",
            "zerolinecolor": "white"
           },
           "yaxis": {
            "backgroundcolor": "#E5ECF6",
            "gridcolor": "white",
            "gridwidth": 2,
            "linecolor": "white",
            "showbackground": true,
            "ticks": "",
            "zerolinecolor": "white"
           },
           "zaxis": {
            "backgroundcolor": "#E5ECF6",
            "gridcolor": "white",
            "gridwidth": 2,
            "linecolor": "white",
            "showbackground": true,
            "ticks": "",
            "zerolinecolor": "white"
           }
          },
          "shapedefaults": {
           "line": {
            "color": "#2a3f5f"
           }
          },
          "ternary": {
           "aaxis": {
            "gridcolor": "white",
            "linecolor": "white",
            "ticks": ""
           },
           "baxis": {
            "gridcolor": "white",
            "linecolor": "white",
            "ticks": ""
           },
           "bgcolor": "#E5ECF6",
           "caxis": {
            "gridcolor": "white",
            "linecolor": "white",
            "ticks": ""
           }
          },
          "title": {
           "x": 0.05
          },
          "xaxis": {
           "automargin": true,
           "gridcolor": "white",
           "linecolor": "white",
           "ticks": "",
           "title": {
            "standoff": 15
           },
           "zerolinecolor": "white",
           "zerolinewidth": 2
          },
          "yaxis": {
           "automargin": true,
           "gridcolor": "white",
           "linecolor": "white",
           "ticks": "",
           "title": {
            "standoff": 15
           },
           "zerolinecolor": "white",
           "zerolinewidth": 2
          }
         }
        },
        "xaxis": {
         "anchor": "y",
         "domain": [
          0,
          1
         ],
         "title": {
          "text": "BAIRRO"
         }
        },
        "yaxis": {
         "anchor": "x",
         "domain": [
          0,
          1
         ],
         "title": {
          "text": "VARICAO_PROPORCIONAL"
         }
        }
       }
      }
     },
     "metadata": {},
     "output_type": "display_data"
    }
   ],
   "source": [
    "# Visualizando a variação proporção do total de votos por Zona Eleitoral entre 2016 e 2020\n",
    "\n",
    "votos_total_ano.sort_values(by=['VARICAO_PROPORCIONAL'], ascending=False) \\\n",
    "                .plot.bar('BAIRRO', 'VARICAO_PROPORCIONAL')"
   ]
  },
  {
   "cell_type": "code",
   "execution_count": 26,
   "metadata": {},
   "outputs": [
    {
     "data": {
      "application/vnd.plotly.v1+json": {
       "config": {
        "plotlyServerURL": "https://plot.ly"
       },
       "data": [
        {
         "alignmentgroup": "True",
         "hovertemplate": "BAIRRO=%{x}<br>VARIACAO=%{y}<extra></extra>",
         "legendgroup": "",
         "marker": {
          "color": "#636efa",
          "pattern": {
           "shape": ""
          }
         },
         "name": "",
         "offsetgroup": "",
         "orientation": "v",
         "showlegend": false,
         "textposition": "auto",
         "type": "bar",
         "x": [
          "VILA DA PENHA",
          "OLARIA",
          "COPACABANA",
          "TODOS OS SANTOS",
          "MEIER",
          "MAGALHÃES BASTOS",
          "MARECHAL HERMES",
          "MARACANÃ",
          "CASCADURA",
          "JARDIM SULACAP",
          "SAUDE",
          "DEL CASTILHO",
          "DEODORO",
          "IRAJÁ",
          "PIEDADE",
          "SANTA CRUZ",
          "ILHA DO GOVERNADOR",
          "LARANJEIRAS",
          "JARDIM BOTÂNICO",
          "CAMPO GRANDE",
          "TAQUARA",
          "BARRA DA TIJUCA",
          "TIJUCA",
          "PORTUGUESA"
         ],
         "xaxis": "x",
         "y": [
          6.887362637362638,
          3.103957075788062,
          2.7027027027027026,
          2.509259259259259,
          2.3393977415307403,
          2.337259764414135,
          2.331140350877193,
          2.15894901144641,
          2.1307643714466202,
          2.08102766798419,
          1.97877223178428,
          1.9342745861733204,
          1.923963133640553,
          1.8558421851289832,
          1.8458049886621315,
          1.771905424200278,
          1.7717391304347827,
          1.5815217391304348,
          1.5717531238167362,
          1.5496402877697841,
          1.297378104875805,
          1.1732449045616304,
          1.1626752336448598,
          0.9832033593281344
         ],
         "yaxis": "y"
        }
       ],
       "layout": {
        "barmode": "relative",
        "legend": {
         "tracegroupgap": 0
        },
        "margin": {
         "t": 60
        },
        "template": {
         "data": {
          "bar": [
           {
            "error_x": {
             "color": "#2a3f5f"
            },
            "error_y": {
             "color": "#2a3f5f"
            },
            "marker": {
             "line": {
              "color": "#E5ECF6",
              "width": 0.5
             },
             "pattern": {
              "fillmode": "overlay",
              "size": 10,
              "solidity": 0.2
             }
            },
            "type": "bar"
           }
          ],
          "barpolar": [
           {
            "marker": {
             "line": {
              "color": "#E5ECF6",
              "width": 0.5
             },
             "pattern": {
              "fillmode": "overlay",
              "size": 10,
              "solidity": 0.2
             }
            },
            "type": "barpolar"
           }
          ],
          "carpet": [
           {
            "aaxis": {
             "endlinecolor": "#2a3f5f",
             "gridcolor": "white",
             "linecolor": "white",
             "minorgridcolor": "white",
             "startlinecolor": "#2a3f5f"
            },
            "baxis": {
             "endlinecolor": "#2a3f5f",
             "gridcolor": "white",
             "linecolor": "white",
             "minorgridcolor": "white",
             "startlinecolor": "#2a3f5f"
            },
            "type": "carpet"
           }
          ],
          "choropleth": [
           {
            "colorbar": {
             "outlinewidth": 0,
             "ticks": ""
            },
            "type": "choropleth"
           }
          ],
          "contour": [
           {
            "colorbar": {
             "outlinewidth": 0,
             "ticks": ""
            },
            "colorscale": [
             [
              0,
              "#0d0887"
             ],
             [
              0.1111111111111111,
              "#46039f"
             ],
             [
              0.2222222222222222,
              "#7201a8"
             ],
             [
              0.3333333333333333,
              "#9c179e"
             ],
             [
              0.4444444444444444,
              "#bd3786"
             ],
             [
              0.5555555555555556,
              "#d8576b"
             ],
             [
              0.6666666666666666,
              "#ed7953"
             ],
             [
              0.7777777777777778,
              "#fb9f3a"
             ],
             [
              0.8888888888888888,
              "#fdca26"
             ],
             [
              1,
              "#f0f921"
             ]
            ],
            "type": "contour"
           }
          ],
          "contourcarpet": [
           {
            "colorbar": {
             "outlinewidth": 0,
             "ticks": ""
            },
            "type": "contourcarpet"
           }
          ],
          "heatmap": [
           {
            "colorbar": {
             "outlinewidth": 0,
             "ticks": ""
            },
            "colorscale": [
             [
              0,
              "#0d0887"
             ],
             [
              0.1111111111111111,
              "#46039f"
             ],
             [
              0.2222222222222222,
              "#7201a8"
             ],
             [
              0.3333333333333333,
              "#9c179e"
             ],
             [
              0.4444444444444444,
              "#bd3786"
             ],
             [
              0.5555555555555556,
              "#d8576b"
             ],
             [
              0.6666666666666666,
              "#ed7953"
             ],
             [
              0.7777777777777778,
              "#fb9f3a"
             ],
             [
              0.8888888888888888,
              "#fdca26"
             ],
             [
              1,
              "#f0f921"
             ]
            ],
            "type": "heatmap"
           }
          ],
          "heatmapgl": [
           {
            "colorbar": {
             "outlinewidth": 0,
             "ticks": ""
            },
            "colorscale": [
             [
              0,
              "#0d0887"
             ],
             [
              0.1111111111111111,
              "#46039f"
             ],
             [
              0.2222222222222222,
              "#7201a8"
             ],
             [
              0.3333333333333333,
              "#9c179e"
             ],
             [
              0.4444444444444444,
              "#bd3786"
             ],
             [
              0.5555555555555556,
              "#d8576b"
             ],
             [
              0.6666666666666666,
              "#ed7953"
             ],
             [
              0.7777777777777778,
              "#fb9f3a"
             ],
             [
              0.8888888888888888,
              "#fdca26"
             ],
             [
              1,
              "#f0f921"
             ]
            ],
            "type": "heatmapgl"
           }
          ],
          "histogram": [
           {
            "marker": {
             "pattern": {
              "fillmode": "overlay",
              "size": 10,
              "solidity": 0.2
             }
            },
            "type": "histogram"
           }
          ],
          "histogram2d": [
           {
            "colorbar": {
             "outlinewidth": 0,
             "ticks": ""
            },
            "colorscale": [
             [
              0,
              "#0d0887"
             ],
             [
              0.1111111111111111,
              "#46039f"
             ],
             [
              0.2222222222222222,
              "#7201a8"
             ],
             [
              0.3333333333333333,
              "#9c179e"
             ],
             [
              0.4444444444444444,
              "#bd3786"
             ],
             [
              0.5555555555555556,
              "#d8576b"
             ],
             [
              0.6666666666666666,
              "#ed7953"
             ],
             [
              0.7777777777777778,
              "#fb9f3a"
             ],
             [
              0.8888888888888888,
              "#fdca26"
             ],
             [
              1,
              "#f0f921"
             ]
            ],
            "type": "histogram2d"
           }
          ],
          "histogram2dcontour": [
           {
            "colorbar": {
             "outlinewidth": 0,
             "ticks": ""
            },
            "colorscale": [
             [
              0,
              "#0d0887"
             ],
             [
              0.1111111111111111,
              "#46039f"
             ],
             [
              0.2222222222222222,
              "#7201a8"
             ],
             [
              0.3333333333333333,
              "#9c179e"
             ],
             [
              0.4444444444444444,
              "#bd3786"
             ],
             [
              0.5555555555555556,
              "#d8576b"
             ],
             [
              0.6666666666666666,
              "#ed7953"
             ],
             [
              0.7777777777777778,
              "#fb9f3a"
             ],
             [
              0.8888888888888888,
              "#fdca26"
             ],
             [
              1,
              "#f0f921"
             ]
            ],
            "type": "histogram2dcontour"
           }
          ],
          "mesh3d": [
           {
            "colorbar": {
             "outlinewidth": 0,
             "ticks": ""
            },
            "type": "mesh3d"
           }
          ],
          "parcoords": [
           {
            "line": {
             "colorbar": {
              "outlinewidth": 0,
              "ticks": ""
             }
            },
            "type": "parcoords"
           }
          ],
          "pie": [
           {
            "automargin": true,
            "type": "pie"
           }
          ],
          "scatter": [
           {
            "fillpattern": {
             "fillmode": "overlay",
             "size": 10,
             "solidity": 0.2
            },
            "type": "scatter"
           }
          ],
          "scatter3d": [
           {
            "line": {
             "colorbar": {
              "outlinewidth": 0,
              "ticks": ""
             }
            },
            "marker": {
             "colorbar": {
              "outlinewidth": 0,
              "ticks": ""
             }
            },
            "type": "scatter3d"
           }
          ],
          "scattercarpet": [
           {
            "marker": {
             "colorbar": {
              "outlinewidth": 0,
              "ticks": ""
             }
            },
            "type": "scattercarpet"
           }
          ],
          "scattergeo": [
           {
            "marker": {
             "colorbar": {
              "outlinewidth": 0,
              "ticks": ""
             }
            },
            "type": "scattergeo"
           }
          ],
          "scattergl": [
           {
            "marker": {
             "colorbar": {
              "outlinewidth": 0,
              "ticks": ""
             }
            },
            "type": "scattergl"
           }
          ],
          "scattermapbox": [
           {
            "marker": {
             "colorbar": {
              "outlinewidth": 0,
              "ticks": ""
             }
            },
            "type": "scattermapbox"
           }
          ],
          "scatterpolar": [
           {
            "marker": {
             "colorbar": {
              "outlinewidth": 0,
              "ticks": ""
             }
            },
            "type": "scatterpolar"
           }
          ],
          "scatterpolargl": [
           {
            "marker": {
             "colorbar": {
              "outlinewidth": 0,
              "ticks": ""
             }
            },
            "type": "scatterpolargl"
           }
          ],
          "scatterternary": [
           {
            "marker": {
             "colorbar": {
              "outlinewidth": 0,
              "ticks": ""
             }
            },
            "type": "scatterternary"
           }
          ],
          "surface": [
           {
            "colorbar": {
             "outlinewidth": 0,
             "ticks": ""
            },
            "colorscale": [
             [
              0,
              "#0d0887"
             ],
             [
              0.1111111111111111,
              "#46039f"
             ],
             [
              0.2222222222222222,
              "#7201a8"
             ],
             [
              0.3333333333333333,
              "#9c179e"
             ],
             [
              0.4444444444444444,
              "#bd3786"
             ],
             [
              0.5555555555555556,
              "#d8576b"
             ],
             [
              0.6666666666666666,
              "#ed7953"
             ],
             [
              0.7777777777777778,
              "#fb9f3a"
             ],
             [
              0.8888888888888888,
              "#fdca26"
             ],
             [
              1,
              "#f0f921"
             ]
            ],
            "type": "surface"
           }
          ],
          "table": [
           {
            "cells": {
             "fill": {
              "color": "#EBF0F8"
             },
             "line": {
              "color": "white"
             }
            },
            "header": {
             "fill": {
              "color": "#C8D4E3"
             },
             "line": {
              "color": "white"
             }
            },
            "type": "table"
           }
          ]
         },
         "layout": {
          "annotationdefaults": {
           "arrowcolor": "#2a3f5f",
           "arrowhead": 0,
           "arrowwidth": 1
          },
          "autotypenumbers": "strict",
          "coloraxis": {
           "colorbar": {
            "outlinewidth": 0,
            "ticks": ""
           }
          },
          "colorscale": {
           "diverging": [
            [
             0,
             "#8e0152"
            ],
            [
             0.1,
             "#c51b7d"
            ],
            [
             0.2,
             "#de77ae"
            ],
            [
             0.3,
             "#f1b6da"
            ],
            [
             0.4,
             "#fde0ef"
            ],
            [
             0.5,
             "#f7f7f7"
            ],
            [
             0.6,
             "#e6f5d0"
            ],
            [
             0.7,
             "#b8e186"
            ],
            [
             0.8,
             "#7fbc41"
            ],
            [
             0.9,
             "#4d9221"
            ],
            [
             1,
             "#276419"
            ]
           ],
           "sequential": [
            [
             0,
             "#0d0887"
            ],
            [
             0.1111111111111111,
             "#46039f"
            ],
            [
             0.2222222222222222,
             "#7201a8"
            ],
            [
             0.3333333333333333,
             "#9c179e"
            ],
            [
             0.4444444444444444,
             "#bd3786"
            ],
            [
             0.5555555555555556,
             "#d8576b"
            ],
            [
             0.6666666666666666,
             "#ed7953"
            ],
            [
             0.7777777777777778,
             "#fb9f3a"
            ],
            [
             0.8888888888888888,
             "#fdca26"
            ],
            [
             1,
             "#f0f921"
            ]
           ],
           "sequentialminus": [
            [
             0,
             "#0d0887"
            ],
            [
             0.1111111111111111,
             "#46039f"
            ],
            [
             0.2222222222222222,
             "#7201a8"
            ],
            [
             0.3333333333333333,
             "#9c179e"
            ],
            [
             0.4444444444444444,
             "#bd3786"
            ],
            [
             0.5555555555555556,
             "#d8576b"
            ],
            [
             0.6666666666666666,
             "#ed7953"
            ],
            [
             0.7777777777777778,
             "#fb9f3a"
            ],
            [
             0.8888888888888888,
             "#fdca26"
            ],
            [
             1,
             "#f0f921"
            ]
           ]
          },
          "colorway": [
           "#636efa",
           "#EF553B",
           "#00cc96",
           "#ab63fa",
           "#FFA15A",
           "#19d3f3",
           "#FF6692",
           "#B6E880",
           "#FF97FF",
           "#FECB52"
          ],
          "font": {
           "color": "#2a3f5f"
          },
          "geo": {
           "bgcolor": "white",
           "lakecolor": "white",
           "landcolor": "#E5ECF6",
           "showlakes": true,
           "showland": true,
           "subunitcolor": "white"
          },
          "hoverlabel": {
           "align": "left"
          },
          "hovermode": "closest",
          "mapbox": {
           "style": "light"
          },
          "paper_bgcolor": "white",
          "plot_bgcolor": "#E5ECF6",
          "polar": {
           "angularaxis": {
            "gridcolor": "white",
            "linecolor": "white",
            "ticks": ""
           },
           "bgcolor": "#E5ECF6",
           "radialaxis": {
            "gridcolor": "white",
            "linecolor": "white",
            "ticks": ""
           }
          },
          "scene": {
           "xaxis": {
            "backgroundcolor": "#E5ECF6",
            "gridcolor": "white",
            "gridwidth": 2,
            "linecolor": "white",
            "showbackground": true,
            "ticks": "",
            "zerolinecolor": "white"
           },
           "yaxis": {
            "backgroundcolor": "#E5ECF6",
            "gridcolor": "white",
            "gridwidth": 2,
            "linecolor": "white",
            "showbackground": true,
            "ticks": "",
            "zerolinecolor": "white"
           },
           "zaxis": {
            "backgroundcolor": "#E5ECF6",
            "gridcolor": "white",
            "gridwidth": 2,
            "linecolor": "white",
            "showbackground": true,
            "ticks": "",
            "zerolinecolor": "white"
           }
          },
          "shapedefaults": {
           "line": {
            "color": "#2a3f5f"
           }
          },
          "ternary": {
           "aaxis": {
            "gridcolor": "white",
            "linecolor": "white",
            "ticks": ""
           },
           "baxis": {
            "gridcolor": "white",
            "linecolor": "white",
            "ticks": ""
           },
           "bgcolor": "#E5ECF6",
           "caxis": {
            "gridcolor": "white",
            "linecolor": "white",
            "ticks": ""
           }
          },
          "title": {
           "x": 0.05
          },
          "xaxis": {
           "automargin": true,
           "gridcolor": "white",
           "linecolor": "white",
           "ticks": "",
           "title": {
            "standoff": 15
           },
           "zerolinecolor": "white",
           "zerolinewidth": 2
          },
          "yaxis": {
           "automargin": true,
           "gridcolor": "white",
           "linecolor": "white",
           "ticks": "",
           "title": {
            "standoff": 15
           },
           "zerolinecolor": "white",
           "zerolinewidth": 2
          }
         }
        },
        "xaxis": {
         "anchor": "y",
         "domain": [
          0,
          1
         ],
         "title": {
          "text": "BAIRRO"
         }
        },
        "yaxis": {
         "anchor": "x",
         "domain": [
          0,
          1
         ],
         "title": {
          "text": "VARIACAO"
         }
        }
       }
      }
     },
     "metadata": {},
     "output_type": "display_data"
    }
   ],
   "source": [
    "# Visualizando a variação em número de vezes do total de votos por Zona Eleitoral de 2016 para 2020\n",
    "\n",
    "votos_total_ano.sort_values(by=['VARIACAO'], ascending=False) \\\n",
    "                .plot.bar('BAIRRO', 'VARIACAO')\n"
   ]
  },
  {
   "cell_type": "markdown",
   "metadata": {},
   "source": [
    "# Conclusões"
   ]
  },
  {
   "cell_type": "markdown",
   "metadata": {},
   "source": [
    "O vereador Tarcísio Motta (PSOL) obteve o total de 48.973 votos, em 2016, e 86.243 votos, em 2020, o que representa um aumento de 76,1% no total de votos. Destes, foi possível verificar que:\n",
    "\n",
    "- As 5 zonas eleitorais com maior aderência ao vereador se repetiram nos anos analisados, sendo elas: Laranjeiras, Tijuca, Maracanã, Copacabana e Méier.\n",
    "\n",
    "- As 5 maiores variações de votos absolutos se deu nas Zonas Eleitorais da Vila da Penha (688 %), Olaria (310 %), Copacabana (270 %), Todos os Santos (250 %) e Méier (234 %). \n",
    "\n",
    "- As 5 maiores variações de votos proporcionais¹ se deu nas Zonas Eleitorais da Vila da Penha (273 %), Olaria (218 %), Marechal Hermes (169 %), Santa Cruz (167 %) e Campo Grande (152 %).\n",
    "\n",
    "- A dimunição da fatia do eleitorado em algumas zonas eleitoras pode ser compreendida pelo aumento do número de votantes entre as duas eleições."
   ]
  },
  {
   "cell_type": "markdown",
   "metadata": {},
   "source": [
    "Nota técnica"
   ]
  },
  {
   "cell_type": "markdown",
   "metadata": {},
   "source": [
    "* ¹Votos proporcionais: Voto no Vereador / Total de Votos em Vereadores; \n",
    "\n",
    "* No ano de 2016 foram registrados 2.331.615 em vereadores, enquanto no ano de 2020 foram 3.261.011, um aumento de 38,8% no total de votos."
   ]
  }
 ],
 "metadata": {
  "kernelspec": {
   "display_name": "Python 3.9.7 ('base')",
   "language": "python",
   "name": "python3"
  },
  "language_info": {
   "codemirror_mode": {
    "name": "ipython",
    "version": 3
   },
   "file_extension": ".py",
   "mimetype": "text/x-python",
   "name": "python",
   "nbconvert_exporter": "python",
   "pygments_lexer": "ipython3",
   "version": "3.9.7"
  },
  "orig_nbformat": 4,
  "vscode": {
   "interpreter": {
    "hash": "a063a9d6d4095dba70f7d4a438ef288e94ffec589b0525f5b20de998ec61033a"
   }
  }
 },
 "nbformat": 4,
 "nbformat_minor": 2
}
